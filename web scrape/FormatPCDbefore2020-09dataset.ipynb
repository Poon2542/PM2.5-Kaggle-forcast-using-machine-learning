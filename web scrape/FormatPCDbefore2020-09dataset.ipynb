{
  "nbformat": 4,
  "nbformat_minor": 0,
  "metadata": {
    "colab": {
      "name": "DataSci 99.3FinalProjectPCDbeforeToTraffic.ipynb",
      "provenance": []
    },
    "kernelspec": {
      "name": "python3",
      "display_name": "Python 3"
    },
    "language_info": {
      "name": "python"
    }
  },
  "cells": [
    {
      "cell_type": "code",
      "source": [
        "from google.colab import drive\n",
        "drive.mount('/content/drive')"
      ],
      "metadata": {
        "colab": {
          "base_uri": "https://localhost:8080/"
        },
        "id": "5GRVQcztOW-c",
        "outputId": "34709884-fc1e-495c-be11-f1922e26be75"
      },
      "execution_count": null,
      "outputs": [
        {
          "output_type": "stream",
          "name": "stdout",
          "text": [
            "Mounted at /content/drive\n"
          ]
        }
      ]
    },
    {
      "cell_type": "code",
      "source": [
        "import pandas as pd\n",
        "import numpy as np"
      ],
      "metadata": {
        "id": "AZK7VWkPM5Mv"
      },
      "execution_count": null,
      "outputs": []
    },
    {
      "cell_type": "markdown",
      "source": [
        "# Format data\n",
        "\n",
        "field ที่จะใช้คือ \n",
        "\n",
        "1.  PM10\n",
        "2.  temp\n",
        "3.  Rel Hum\n",
        "4.  Wind speed\n",
        "5.  Wind dir\n",
        "\n",
        "Optional \n",
        "\n",
        "1.   ความสูงเหนือระดับน้ำทะเลของพื้นที่\n",
        "2.   temperature Inversion\n",
        "3.   ความเร็วลม ณ ความสูงอื่นๆ\n",
        "\n"
      ],
      "metadata": {
        "id": "OPQUuMWK2mq0"
      }
    },
    {
      "cell_type": "code",
      "source": [
        "tf = pd.read_csv('/content/drive/MyDrive/DataScience_finalproject/Traffics/traffic_hour/traffic_hour.csv')"
      ],
      "metadata": {
        "id": "SQMRmh2-4lot"
      },
      "execution_count": null,
      "outputs": []
    },
    {
      "cell_type": "code",
      "source": [
        "traffic = tf[[\"ปี/เดือน/วัน\",\"ชั่วโมง\",\"index\"]]\n",
        "traffic"
      ],
      "metadata": {
        "colab": {
          "base_uri": "https://localhost:8080/",
          "height": 424
        },
        "id": "m1uteR562SH7",
        "outputId": "aa969e1e-570b-464f-a050-f45fed51fad1"
      },
      "execution_count": null,
      "outputs": [
        {
          "output_type": "execute_result",
          "data": {
            "text/plain": [
              "       ปี/เดือน/วัน  ชั่วโมง     index\n",
              "0            120101      100  0.208333\n",
              "1            120101      200  0.000000\n",
              "2            120101      300  0.000000\n",
              "3            120101      400  0.000000\n",
              "4            120101      500  0.000000\n",
              "...             ...      ...       ...\n",
              "83220        220430     2000  4.225000\n",
              "83221        220430     2100  3.541667\n",
              "83222        220430     2200  2.425000\n",
              "83223        220430     2300  2.391667\n",
              "83224        220430     2400  2.058333\n",
              "\n",
              "[83225 rows x 3 columns]"
            ],
            "text/html": [
              "\n",
              "  <div id=\"df-d0b8fc8a-3693-47f0-a3e1-630efcace808\">\n",
              "    <div class=\"colab-df-container\">\n",
              "      <div>\n",
              "<style scoped>\n",
              "    .dataframe tbody tr th:only-of-type {\n",
              "        vertical-align: middle;\n",
              "    }\n",
              "\n",
              "    .dataframe tbody tr th {\n",
              "        vertical-align: top;\n",
              "    }\n",
              "\n",
              "    .dataframe thead th {\n",
              "        text-align: right;\n",
              "    }\n",
              "</style>\n",
              "<table border=\"1\" class=\"dataframe\">\n",
              "  <thead>\n",
              "    <tr style=\"text-align: right;\">\n",
              "      <th></th>\n",
              "      <th>ปี/เดือน/วัน</th>\n",
              "      <th>ชั่วโมง</th>\n",
              "      <th>index</th>\n",
              "    </tr>\n",
              "  </thead>\n",
              "  <tbody>\n",
              "    <tr>\n",
              "      <th>0</th>\n",
              "      <td>120101</td>\n",
              "      <td>100</td>\n",
              "      <td>0.208333</td>\n",
              "    </tr>\n",
              "    <tr>\n",
              "      <th>1</th>\n",
              "      <td>120101</td>\n",
              "      <td>200</td>\n",
              "      <td>0.000000</td>\n",
              "    </tr>\n",
              "    <tr>\n",
              "      <th>2</th>\n",
              "      <td>120101</td>\n",
              "      <td>300</td>\n",
              "      <td>0.000000</td>\n",
              "    </tr>\n",
              "    <tr>\n",
              "      <th>3</th>\n",
              "      <td>120101</td>\n",
              "      <td>400</td>\n",
              "      <td>0.000000</td>\n",
              "    </tr>\n",
              "    <tr>\n",
              "      <th>4</th>\n",
              "      <td>120101</td>\n",
              "      <td>500</td>\n",
              "      <td>0.000000</td>\n",
              "    </tr>\n",
              "    <tr>\n",
              "      <th>...</th>\n",
              "      <td>...</td>\n",
              "      <td>...</td>\n",
              "      <td>...</td>\n",
              "    </tr>\n",
              "    <tr>\n",
              "      <th>83220</th>\n",
              "      <td>220430</td>\n",
              "      <td>2000</td>\n",
              "      <td>4.225000</td>\n",
              "    </tr>\n",
              "    <tr>\n",
              "      <th>83221</th>\n",
              "      <td>220430</td>\n",
              "      <td>2100</td>\n",
              "      <td>3.541667</td>\n",
              "    </tr>\n",
              "    <tr>\n",
              "      <th>83222</th>\n",
              "      <td>220430</td>\n",
              "      <td>2200</td>\n",
              "      <td>2.425000</td>\n",
              "    </tr>\n",
              "    <tr>\n",
              "      <th>83223</th>\n",
              "      <td>220430</td>\n",
              "      <td>2300</td>\n",
              "      <td>2.391667</td>\n",
              "    </tr>\n",
              "    <tr>\n",
              "      <th>83224</th>\n",
              "      <td>220430</td>\n",
              "      <td>2400</td>\n",
              "      <td>2.058333</td>\n",
              "    </tr>\n",
              "  </tbody>\n",
              "</table>\n",
              "<p>83225 rows × 3 columns</p>\n",
              "</div>\n",
              "      <button class=\"colab-df-convert\" onclick=\"convertToInteractive('df-d0b8fc8a-3693-47f0-a3e1-630efcace808')\"\n",
              "              title=\"Convert this dataframe to an interactive table.\"\n",
              "              style=\"display:none;\">\n",
              "        \n",
              "  <svg xmlns=\"http://www.w3.org/2000/svg\" height=\"24px\"viewBox=\"0 0 24 24\"\n",
              "       width=\"24px\">\n",
              "    <path d=\"M0 0h24v24H0V0z\" fill=\"none\"/>\n",
              "    <path d=\"M18.56 5.44l.94 2.06.94-2.06 2.06-.94-2.06-.94-.94-2.06-.94 2.06-2.06.94zm-11 1L8.5 8.5l.94-2.06 2.06-.94-2.06-.94L8.5 2.5l-.94 2.06-2.06.94zm10 10l.94 2.06.94-2.06 2.06-.94-2.06-.94-.94-2.06-.94 2.06-2.06.94z\"/><path d=\"M17.41 7.96l-1.37-1.37c-.4-.4-.92-.59-1.43-.59-.52 0-1.04.2-1.43.59L10.3 9.45l-7.72 7.72c-.78.78-.78 2.05 0 2.83L4 21.41c.39.39.9.59 1.41.59.51 0 1.02-.2 1.41-.59l7.78-7.78 2.81-2.81c.8-.78.8-2.07 0-2.86zM5.41 20L4 18.59l7.72-7.72 1.47 1.35L5.41 20z\"/>\n",
              "  </svg>\n",
              "      </button>\n",
              "      \n",
              "  <style>\n",
              "    .colab-df-container {\n",
              "      display:flex;\n",
              "      flex-wrap:wrap;\n",
              "      gap: 12px;\n",
              "    }\n",
              "\n",
              "    .colab-df-convert {\n",
              "      background-color: #E8F0FE;\n",
              "      border: none;\n",
              "      border-radius: 50%;\n",
              "      cursor: pointer;\n",
              "      display: none;\n",
              "      fill: #1967D2;\n",
              "      height: 32px;\n",
              "      padding: 0 0 0 0;\n",
              "      width: 32px;\n",
              "    }\n",
              "\n",
              "    .colab-df-convert:hover {\n",
              "      background-color: #E2EBFA;\n",
              "      box-shadow: 0px 1px 2px rgba(60, 64, 67, 0.3), 0px 1px 3px 1px rgba(60, 64, 67, 0.15);\n",
              "      fill: #174EA6;\n",
              "    }\n",
              "\n",
              "    [theme=dark] .colab-df-convert {\n",
              "      background-color: #3B4455;\n",
              "      fill: #D2E3FC;\n",
              "    }\n",
              "\n",
              "    [theme=dark] .colab-df-convert:hover {\n",
              "      background-color: #434B5C;\n",
              "      box-shadow: 0px 1px 3px 1px rgba(0, 0, 0, 0.15);\n",
              "      filter: drop-shadow(0px 1px 2px rgba(0, 0, 0, 0.3));\n",
              "      fill: #FFFFFF;\n",
              "    }\n",
              "  </style>\n",
              "\n",
              "      <script>\n",
              "        const buttonEl =\n",
              "          document.querySelector('#df-d0b8fc8a-3693-47f0-a3e1-630efcace808 button.colab-df-convert');\n",
              "        buttonEl.style.display =\n",
              "          google.colab.kernel.accessAllowed ? 'block' : 'none';\n",
              "\n",
              "        async function convertToInteractive(key) {\n",
              "          const element = document.querySelector('#df-d0b8fc8a-3693-47f0-a3e1-630efcace808');\n",
              "          const dataTable =\n",
              "            await google.colab.kernel.invokeFunction('convertToInteractive',\n",
              "                                                     [key], {});\n",
              "          if (!dataTable) return;\n",
              "\n",
              "          const docLinkHtml = 'Like what you see? Visit the ' +\n",
              "            '<a target=\"_blank\" href=https://colab.research.google.com/notebooks/data_table.ipynb>data table notebook</a>'\n",
              "            + ' to learn more about interactive tables.';\n",
              "          element.innerHTML = '';\n",
              "          dataTable['output_type'] = 'display_data';\n",
              "          await google.colab.output.renderOutput(dataTable, element);\n",
              "          const docLink = document.createElement('div');\n",
              "          docLink.innerHTML = docLinkHtml;\n",
              "          element.appendChild(docLink);\n",
              "        }\n",
              "      </script>\n",
              "    </div>\n",
              "  </div>\n",
              "  "
            ]
          },
          "metadata": {},
          "execution_count": 32
        }
      ]
    },
    {
      "cell_type": "code",
      "source": [
        "before_20t2 = before_20t.join(traffic.set_index(['ปี/เดือน/วัน','ชั่วโมง']), on=['ปี/เดือน/วัน','ชั่วโมง'])"
      ],
      "metadata": {
        "id": "fM0V0gp7mvRF"
      },
      "execution_count": null,
      "outputs": []
    },
    {
      "cell_type": "markdown",
      "source": [
        "# *H*"
      ],
      "metadata": {
        "id": "f6PJ1aND8TNc"
      }
    },
    {
      "cell_type": "code",
      "source": [
        "import os\n",
        "from os import walk"
      ],
      "metadata": {
        "id": "tKh6NsXV3Dd-"
      },
      "execution_count": null,
      "outputs": []
    },
    {
      "cell_type": "code",
      "source": [
        "path = \"/content/drive/MyDrive/DataScience_finalproject/PCD Data/Data before 2020-9/0hasPM2.5col/H\""
      ],
      "metadata": {
        "id": "O4BSsh1J7b1o"
      },
      "execution_count": null,
      "outputs": []
    },
    {
      "cell_type": "code",
      "source": [
        "filelist = []\n",
        "for (dirpath, dirnames, filenames) in walk(path):\n",
        "    filelist += filenames"
      ],
      "metadata": {
        "id": "2lWTeFpm7TFw"
      },
      "execution_count": null,
      "outputs": []
    },
    {
      "cell_type": "code",
      "source": [
        "filelist"
      ],
      "metadata": {
        "colab": {
          "base_uri": "https://localhost:8080/"
        },
        "id": "ABDAohix8FnW",
        "outputId": "2282eaca-609d-47a9-a5b5-0e5974e1ad13"
      },
      "execution_count": null,
      "outputs": [
        {
          "output_type": "execute_result",
          "data": {
            "text/plain": [
              "['(78t)ศูนย์พัฒนาเด็กเล็กเทศบาลเมืองเบตง จ.ยะลา.xlsx',\n",
              " '(71t)โรงเรียนอนุบาลศรีอรัญโญทัย จ.สระแก้ว.xlsx',\n",
              " '(72t)สำนักงานสาธารณสุขจังหวัดเลย.xlsx',\n",
              " '(50t)โรงพยาบาลจุฬาลงกรณ์.xlsx']"
            ]
          },
          "metadata": {},
          "execution_count": 9
        }
      ]
    },
    {
      "cell_type": "code",
      "source": [
        "def colRename(df):\n",
        "  cols = list(df.columns)\n",
        "  if \"WS\" in cols :\n",
        "    df.rename(columns={\"WS\":'Wind speed'},inplace = True)\n",
        "  if ' Wind speed' in cols :\n",
        "    df.rename(columns={' Wind speed':'Wind speed'},inplace = True)\n",
        "  if \"WD\" in cols :\n",
        "    df.rename(columns={\"WD\":'Wind dir'},inplace = True)\n",
        "  if ' Wind dir' in cols :\n",
        "    df.rename(columns={' Wind dir':'Wind dir'},inplace = True)\n",
        "  if ' Temp' in cols :\n",
        "    df.rename(columns={' Temp':'Temp'},inplace = True)\n",
        "  if ' TEMP' in cols :\n",
        "    df.rename(columns={' TEMP':'Temp'},inplace = True)\n",
        "  if 'TEMP' in cols :\n",
        "    df.rename(columns={'TEMP':'Temp'},inplace = True)\n",
        "  if \"RH\" in cols :\n",
        "    df.rename(columns={\"RH\":'Rel hum'},inplace = True)\n",
        "  if ' Rel hum' in cols :\n",
        "    df.rename(columns={' Rel hum':'Rel hum'},inplace = True)\n",
        "  if \"PM10(มคก./ลบ.ม.)\" in cols:\n",
        "    df.rename(columns={\"PM10(มคก./ลบ.ม.)\":\"PM10\"},inplace = True)\n",
        "  if ' PM10' in cols:\n",
        "    df.rename(columns={' PM10':\"PM10\"},inplace = True)\n",
        "  if ' PM2.5' in cols:\n",
        "    df.rename(columns={' PM2.5':'PM2.5'},inplace = True)\n",
        "  if \"ปี/เดือน/วัน.1\" in cols:\n",
        "    df.rename(columns={\"ปี/เดือน/วัน.1\":\"ปี/เดือน/วัน\"},inplace = True)"
      ],
      "metadata": {
        "id": "KzhpPaeR_TcJ"
      },
      "execution_count": null,
      "outputs": []
    },
    {
      "cell_type": "code",
      "source": [
        "filepath = path+\"/\"+filelist[0]\n",
        "result = pd.read_excel(filepath,usecols=\"A:H\", na_values=\"-\")\n",
        "result.drop(index=result.index[0], axis=0, inplace=True)\n",
        "colRename(result)\n",
        "\n",
        "result[\"Station\"] = filelist[0][1:4]\n",
        "\n",
        "#join to traffic\n",
        "result = result.join(traffic.set_index(['ปี/เดือน/วัน','ชั่วโมง']), on=['ปี/เดือน/วัน','ชั่วโมง'])"
      ],
      "metadata": {
        "id": "H3f-wRweCPeo"
      },
      "execution_count": null,
      "outputs": []
    },
    {
      "cell_type": "code",
      "source": [
        "result"
      ],
      "metadata": {
        "colab": {
          "base_uri": "https://localhost:8080/",
          "height": 424
        },
        "id": "JYwHNAEFC0UV",
        "outputId": "28ba1262-e117-4a07-e464-74c913884235"
      },
      "execution_count": null,
      "outputs": [
        {
          "output_type": "execute_result",
          "data": {
            "text/plain": [
              "      ปี/เดือน/วัน  ชั่วโมง PM10 PM2.5 Wind speed Wind dir  Temp Rel hum  \\\n",
              "1         191201.0    100.0   16     4        0.4       89  22.7      96   \n",
              "2         191201.0    200.0   13     4        0.4      116  22.6      96   \n",
              "3         191201.0    300.0   16     3        0.3       69  22.5      96   \n",
              "4         191201.0    400.0   13     3        0.5      103  22.5      96   \n",
              "5         191201.0    500.0   11     2        0.3      129  22.5      96   \n",
              "...            ...      ...  ...   ...        ...      ...   ...     ...   \n",
              "7316      200930.0   2000.0   19    10        0.4      233  27.2      78   \n",
              "7317      200930.0   2100.0   20     8        0.4       75  25.7      90   \n",
              "7318      200930.0   2200.0   21    10        0.4      242  24.8      95   \n",
              "7319      200930.0   2300.0   16    12        0.1      231  24.4      96   \n",
              "7320      200930.0   2400.0   22    10        0.2      264  24.2      96   \n",
              "\n",
              "     Station     index  \n",
              "1        78t  1.354545  \n",
              "2        78t  1.350000  \n",
              "3        78t  1.366667  \n",
              "4        78t  1.225000  \n",
              "5        78t  1.883333  \n",
              "...      ...       ...  \n",
              "7316     78t  5.466667  \n",
              "7317     78t  4.166667  \n",
              "7318     78t  2.091667  \n",
              "7319     78t  1.725000  \n",
              "7320     78t  2.158333  \n",
              "\n",
              "[7320 rows x 10 columns]"
            ],
            "text/html": [
              "\n",
              "  <div id=\"df-852f568c-ade8-4ddb-8cac-3b536b39ba9c\">\n",
              "    <div class=\"colab-df-container\">\n",
              "      <div>\n",
              "<style scoped>\n",
              "    .dataframe tbody tr th:only-of-type {\n",
              "        vertical-align: middle;\n",
              "    }\n",
              "\n",
              "    .dataframe tbody tr th {\n",
              "        vertical-align: top;\n",
              "    }\n",
              "\n",
              "    .dataframe thead th {\n",
              "        text-align: right;\n",
              "    }\n",
              "</style>\n",
              "<table border=\"1\" class=\"dataframe\">\n",
              "  <thead>\n",
              "    <tr style=\"text-align: right;\">\n",
              "      <th></th>\n",
              "      <th>ปี/เดือน/วัน</th>\n",
              "      <th>ชั่วโมง</th>\n",
              "      <th>PM10</th>\n",
              "      <th>PM2.5</th>\n",
              "      <th>Wind speed</th>\n",
              "      <th>Wind dir</th>\n",
              "      <th>Temp</th>\n",
              "      <th>Rel hum</th>\n",
              "      <th>Station</th>\n",
              "      <th>index</th>\n",
              "    </tr>\n",
              "  </thead>\n",
              "  <tbody>\n",
              "    <tr>\n",
              "      <th>1</th>\n",
              "      <td>191201.0</td>\n",
              "      <td>100.0</td>\n",
              "      <td>16</td>\n",
              "      <td>4</td>\n",
              "      <td>0.4</td>\n",
              "      <td>89</td>\n",
              "      <td>22.7</td>\n",
              "      <td>96</td>\n",
              "      <td>78t</td>\n",
              "      <td>1.354545</td>\n",
              "    </tr>\n",
              "    <tr>\n",
              "      <th>2</th>\n",
              "      <td>191201.0</td>\n",
              "      <td>200.0</td>\n",
              "      <td>13</td>\n",
              "      <td>4</td>\n",
              "      <td>0.4</td>\n",
              "      <td>116</td>\n",
              "      <td>22.6</td>\n",
              "      <td>96</td>\n",
              "      <td>78t</td>\n",
              "      <td>1.350000</td>\n",
              "    </tr>\n",
              "    <tr>\n",
              "      <th>3</th>\n",
              "      <td>191201.0</td>\n",
              "      <td>300.0</td>\n",
              "      <td>16</td>\n",
              "      <td>3</td>\n",
              "      <td>0.3</td>\n",
              "      <td>69</td>\n",
              "      <td>22.5</td>\n",
              "      <td>96</td>\n",
              "      <td>78t</td>\n",
              "      <td>1.366667</td>\n",
              "    </tr>\n",
              "    <tr>\n",
              "      <th>4</th>\n",
              "      <td>191201.0</td>\n",
              "      <td>400.0</td>\n",
              "      <td>13</td>\n",
              "      <td>3</td>\n",
              "      <td>0.5</td>\n",
              "      <td>103</td>\n",
              "      <td>22.5</td>\n",
              "      <td>96</td>\n",
              "      <td>78t</td>\n",
              "      <td>1.225000</td>\n",
              "    </tr>\n",
              "    <tr>\n",
              "      <th>5</th>\n",
              "      <td>191201.0</td>\n",
              "      <td>500.0</td>\n",
              "      <td>11</td>\n",
              "      <td>2</td>\n",
              "      <td>0.3</td>\n",
              "      <td>129</td>\n",
              "      <td>22.5</td>\n",
              "      <td>96</td>\n",
              "      <td>78t</td>\n",
              "      <td>1.883333</td>\n",
              "    </tr>\n",
              "    <tr>\n",
              "      <th>...</th>\n",
              "      <td>...</td>\n",
              "      <td>...</td>\n",
              "      <td>...</td>\n",
              "      <td>...</td>\n",
              "      <td>...</td>\n",
              "      <td>...</td>\n",
              "      <td>...</td>\n",
              "      <td>...</td>\n",
              "      <td>...</td>\n",
              "      <td>...</td>\n",
              "    </tr>\n",
              "    <tr>\n",
              "      <th>7316</th>\n",
              "      <td>200930.0</td>\n",
              "      <td>2000.0</td>\n",
              "      <td>19</td>\n",
              "      <td>10</td>\n",
              "      <td>0.4</td>\n",
              "      <td>233</td>\n",
              "      <td>27.2</td>\n",
              "      <td>78</td>\n",
              "      <td>78t</td>\n",
              "      <td>5.466667</td>\n",
              "    </tr>\n",
              "    <tr>\n",
              "      <th>7317</th>\n",
              "      <td>200930.0</td>\n",
              "      <td>2100.0</td>\n",
              "      <td>20</td>\n",
              "      <td>8</td>\n",
              "      <td>0.4</td>\n",
              "      <td>75</td>\n",
              "      <td>25.7</td>\n",
              "      <td>90</td>\n",
              "      <td>78t</td>\n",
              "      <td>4.166667</td>\n",
              "    </tr>\n",
              "    <tr>\n",
              "      <th>7318</th>\n",
              "      <td>200930.0</td>\n",
              "      <td>2200.0</td>\n",
              "      <td>21</td>\n",
              "      <td>10</td>\n",
              "      <td>0.4</td>\n",
              "      <td>242</td>\n",
              "      <td>24.8</td>\n",
              "      <td>95</td>\n",
              "      <td>78t</td>\n",
              "      <td>2.091667</td>\n",
              "    </tr>\n",
              "    <tr>\n",
              "      <th>7319</th>\n",
              "      <td>200930.0</td>\n",
              "      <td>2300.0</td>\n",
              "      <td>16</td>\n",
              "      <td>12</td>\n",
              "      <td>0.1</td>\n",
              "      <td>231</td>\n",
              "      <td>24.4</td>\n",
              "      <td>96</td>\n",
              "      <td>78t</td>\n",
              "      <td>1.725000</td>\n",
              "    </tr>\n",
              "    <tr>\n",
              "      <th>7320</th>\n",
              "      <td>200930.0</td>\n",
              "      <td>2400.0</td>\n",
              "      <td>22</td>\n",
              "      <td>10</td>\n",
              "      <td>0.2</td>\n",
              "      <td>264</td>\n",
              "      <td>24.2</td>\n",
              "      <td>96</td>\n",
              "      <td>78t</td>\n",
              "      <td>2.158333</td>\n",
              "    </tr>\n",
              "  </tbody>\n",
              "</table>\n",
              "<p>7320 rows × 10 columns</p>\n",
              "</div>\n",
              "      <button class=\"colab-df-convert\" onclick=\"convertToInteractive('df-852f568c-ade8-4ddb-8cac-3b536b39ba9c')\"\n",
              "              title=\"Convert this dataframe to an interactive table.\"\n",
              "              style=\"display:none;\">\n",
              "        \n",
              "  <svg xmlns=\"http://www.w3.org/2000/svg\" height=\"24px\"viewBox=\"0 0 24 24\"\n",
              "       width=\"24px\">\n",
              "    <path d=\"M0 0h24v24H0V0z\" fill=\"none\"/>\n",
              "    <path d=\"M18.56 5.44l.94 2.06.94-2.06 2.06-.94-2.06-.94-.94-2.06-.94 2.06-2.06.94zm-11 1L8.5 8.5l.94-2.06 2.06-.94-2.06-.94L8.5 2.5l-.94 2.06-2.06.94zm10 10l.94 2.06.94-2.06 2.06-.94-2.06-.94-.94-2.06-.94 2.06-2.06.94z\"/><path d=\"M17.41 7.96l-1.37-1.37c-.4-.4-.92-.59-1.43-.59-.52 0-1.04.2-1.43.59L10.3 9.45l-7.72 7.72c-.78.78-.78 2.05 0 2.83L4 21.41c.39.39.9.59 1.41.59.51 0 1.02-.2 1.41-.59l7.78-7.78 2.81-2.81c.8-.78.8-2.07 0-2.86zM5.41 20L4 18.59l7.72-7.72 1.47 1.35L5.41 20z\"/>\n",
              "  </svg>\n",
              "      </button>\n",
              "      \n",
              "  <style>\n",
              "    .colab-df-container {\n",
              "      display:flex;\n",
              "      flex-wrap:wrap;\n",
              "      gap: 12px;\n",
              "    }\n",
              "\n",
              "    .colab-df-convert {\n",
              "      background-color: #E8F0FE;\n",
              "      border: none;\n",
              "      border-radius: 50%;\n",
              "      cursor: pointer;\n",
              "      display: none;\n",
              "      fill: #1967D2;\n",
              "      height: 32px;\n",
              "      padding: 0 0 0 0;\n",
              "      width: 32px;\n",
              "    }\n",
              "\n",
              "    .colab-df-convert:hover {\n",
              "      background-color: #E2EBFA;\n",
              "      box-shadow: 0px 1px 2px rgba(60, 64, 67, 0.3), 0px 1px 3px 1px rgba(60, 64, 67, 0.15);\n",
              "      fill: #174EA6;\n",
              "    }\n",
              "\n",
              "    [theme=dark] .colab-df-convert {\n",
              "      background-color: #3B4455;\n",
              "      fill: #D2E3FC;\n",
              "    }\n",
              "\n",
              "    [theme=dark] .colab-df-convert:hover {\n",
              "      background-color: #434B5C;\n",
              "      box-shadow: 0px 1px 3px 1px rgba(0, 0, 0, 0.15);\n",
              "      filter: drop-shadow(0px 1px 2px rgba(0, 0, 0, 0.3));\n",
              "      fill: #FFFFFF;\n",
              "    }\n",
              "  </style>\n",
              "\n",
              "      <script>\n",
              "        const buttonEl =\n",
              "          document.querySelector('#df-852f568c-ade8-4ddb-8cac-3b536b39ba9c button.colab-df-convert');\n",
              "        buttonEl.style.display =\n",
              "          google.colab.kernel.accessAllowed ? 'block' : 'none';\n",
              "\n",
              "        async function convertToInteractive(key) {\n",
              "          const element = document.querySelector('#df-852f568c-ade8-4ddb-8cac-3b536b39ba9c');\n",
              "          const dataTable =\n",
              "            await google.colab.kernel.invokeFunction('convertToInteractive',\n",
              "                                                     [key], {});\n",
              "          if (!dataTable) return;\n",
              "\n",
              "          const docLinkHtml = 'Like what you see? Visit the ' +\n",
              "            '<a target=\"_blank\" href=https://colab.research.google.com/notebooks/data_table.ipynb>data table notebook</a>'\n",
              "            + ' to learn more about interactive tables.';\n",
              "          element.innerHTML = '';\n",
              "          dataTable['output_type'] = 'display_data';\n",
              "          await google.colab.output.renderOutput(dataTable, element);\n",
              "          const docLink = document.createElement('div');\n",
              "          docLink.innerHTML = docLinkHtml;\n",
              "          element.appendChild(docLink);\n",
              "        }\n",
              "      </script>\n",
              "    </div>\n",
              "  </div>\n",
              "  "
            ]
          },
          "metadata": {},
          "execution_count": 38
        }
      ]
    },
    {
      "cell_type": "code",
      "source": [
        "result.info()"
      ],
      "metadata": {
        "colab": {
          "base_uri": "https://localhost:8080/"
        },
        "id": "DXUS4rSGny90",
        "outputId": "4abf13f3-fc7c-4ece-8e0a-1dc8508cdf84"
      },
      "execution_count": null,
      "outputs": [
        {
          "output_type": "stream",
          "name": "stdout",
          "text": [
            "<class 'pandas.core.frame.DataFrame'>\n",
            "Int64Index: 7320 entries, 1 to 7320\n",
            "Data columns (total 10 columns):\n",
            " #   Column        Non-Null Count  Dtype  \n",
            "---  ------        --------------  -----  \n",
            " 0   ปี/เดือน/วัน  7320 non-null   float64\n",
            " 1   ชั่วโมง       7320 non-null   float64\n",
            " 2   PM10          7221 non-null   object \n",
            " 3   PM2.5         7200 non-null   object \n",
            " 4   Wind speed    7233 non-null   object \n",
            " 5   Wind dir      7250 non-null   object \n",
            " 6   Temp          7271 non-null   object \n",
            " 7   Rel hum       7270 non-null   object \n",
            " 8   Station       7320 non-null   object \n",
            " 9   index         7319 non-null   float64\n",
            "dtypes: float64(3), object(7)\n",
            "memory usage: 629.1+ KB\n"
          ]
        }
      ]
    },
    {
      "cell_type": "code",
      "source": [
        "for f in filelist[1:]:\n",
        "  filepath = path+\"/\"+f\n",
        "  df = pd.read_excel(filepath,usecols=\"A:H\",na_values=\"-\")\n",
        "  df.drop(index=df.index[0], axis=0, inplace=True)\n",
        "  \n",
        "  colRename(df)\n",
        "\n",
        "  # add station column\n",
        "  df[\"Station\"] = f[1:4]\n",
        "\n",
        "  # join traffic\n",
        "  df = df.join(traffic.set_index(['ปี/เดือน/วัน','ชั่วโมง']), on=['ปี/เดือน/วัน','ชั่วโมง'])\n",
        "\n",
        "  result = result.append(df,ignore_index=True)"
      ],
      "metadata": {
        "id": "SeiOS0sU9Def"
      },
      "execution_count": null,
      "outputs": []
    },
    {
      "cell_type": "code",
      "source": [
        "result"
      ],
      "metadata": {
        "colab": {
          "base_uri": "https://localhost:8080/",
          "height": 424
        },
        "id": "eOdZm9bMC9Hq",
        "outputId": "2390567d-820b-4806-bae8-aee1a2fd12b9"
      },
      "execution_count": null,
      "outputs": [
        {
          "output_type": "execute_result",
          "data": {
            "text/plain": [
              "        ปี/เดือน/วัน  ชั่วโมง PM10 PM2.5 Wind speed Wind dir  Temp Rel hum  \\\n",
              "0           191201.0    100.0   16     4        0.4       89  22.7      96   \n",
              "1           191201.0    200.0   13     4        0.4      116  22.6      96   \n",
              "2           191201.0    300.0   16     3        0.3       69  22.5      96   \n",
              "3           191201.0    400.0   13     3        0.5      103  22.5      96   \n",
              "4           191201.0    500.0   11     2        0.3      129  22.5      96   \n",
              "...              ...      ...  ...   ...        ...      ...   ...     ...   \n",
              "207475      200930.0   2000.0   26    16        NaN      NaN  29.8      56   \n",
              "207476      200930.0   2100.0   23    18        NaN      NaN  29.4      59   \n",
              "207477      200930.0   2200.0   29    15        NaN      NaN    29      62   \n",
              "207478      200930.0   2300.0   32    20        NaN      NaN  28.8      63   \n",
              "207479      200930.0   2400.0   32    19        NaN      NaN  28.5      62   \n",
              "\n",
              "       Station     index    CO  NO2  \n",
              "0          78t  1.354545   NaN  NaN  \n",
              "1          78t  1.350000   NaN  NaN  \n",
              "2          78t  1.366667   NaN  NaN  \n",
              "3          78t  1.225000   NaN  NaN  \n",
              "4          78t  1.883333   NaN  NaN  \n",
              "...        ...       ...   ...  ...  \n",
              "207475     50t  5.466667  1.32   16  \n",
              "207476     50t  4.166667  1.07   14  \n",
              "207477     50t  2.091667  0.98   14  \n",
              "207478     50t  1.725000  0.75   12  \n",
              "207479     50t  2.158333  0.91   10  \n",
              "\n",
              "[207480 rows x 12 columns]"
            ],
            "text/html": [
              "\n",
              "  <div id=\"df-b962e68a-68e1-4abb-92c1-591942b6f9ff\">\n",
              "    <div class=\"colab-df-container\">\n",
              "      <div>\n",
              "<style scoped>\n",
              "    .dataframe tbody tr th:only-of-type {\n",
              "        vertical-align: middle;\n",
              "    }\n",
              "\n",
              "    .dataframe tbody tr th {\n",
              "        vertical-align: top;\n",
              "    }\n",
              "\n",
              "    .dataframe thead th {\n",
              "        text-align: right;\n",
              "    }\n",
              "</style>\n",
              "<table border=\"1\" class=\"dataframe\">\n",
              "  <thead>\n",
              "    <tr style=\"text-align: right;\">\n",
              "      <th></th>\n",
              "      <th>ปี/เดือน/วัน</th>\n",
              "      <th>ชั่วโมง</th>\n",
              "      <th>PM10</th>\n",
              "      <th>PM2.5</th>\n",
              "      <th>Wind speed</th>\n",
              "      <th>Wind dir</th>\n",
              "      <th>Temp</th>\n",
              "      <th>Rel hum</th>\n",
              "      <th>Station</th>\n",
              "      <th>index</th>\n",
              "      <th>CO</th>\n",
              "      <th>NO2</th>\n",
              "    </tr>\n",
              "  </thead>\n",
              "  <tbody>\n",
              "    <tr>\n",
              "      <th>0</th>\n",
              "      <td>191201.0</td>\n",
              "      <td>100.0</td>\n",
              "      <td>16</td>\n",
              "      <td>4</td>\n",
              "      <td>0.4</td>\n",
              "      <td>89</td>\n",
              "      <td>22.7</td>\n",
              "      <td>96</td>\n",
              "      <td>78t</td>\n",
              "      <td>1.354545</td>\n",
              "      <td>NaN</td>\n",
              "      <td>NaN</td>\n",
              "    </tr>\n",
              "    <tr>\n",
              "      <th>1</th>\n",
              "      <td>191201.0</td>\n",
              "      <td>200.0</td>\n",
              "      <td>13</td>\n",
              "      <td>4</td>\n",
              "      <td>0.4</td>\n",
              "      <td>116</td>\n",
              "      <td>22.6</td>\n",
              "      <td>96</td>\n",
              "      <td>78t</td>\n",
              "      <td>1.350000</td>\n",
              "      <td>NaN</td>\n",
              "      <td>NaN</td>\n",
              "    </tr>\n",
              "    <tr>\n",
              "      <th>2</th>\n",
              "      <td>191201.0</td>\n",
              "      <td>300.0</td>\n",
              "      <td>16</td>\n",
              "      <td>3</td>\n",
              "      <td>0.3</td>\n",
              "      <td>69</td>\n",
              "      <td>22.5</td>\n",
              "      <td>96</td>\n",
              "      <td>78t</td>\n",
              "      <td>1.366667</td>\n",
              "      <td>NaN</td>\n",
              "      <td>NaN</td>\n",
              "    </tr>\n",
              "    <tr>\n",
              "      <th>3</th>\n",
              "      <td>191201.0</td>\n",
              "      <td>400.0</td>\n",
              "      <td>13</td>\n",
              "      <td>3</td>\n",
              "      <td>0.5</td>\n",
              "      <td>103</td>\n",
              "      <td>22.5</td>\n",
              "      <td>96</td>\n",
              "      <td>78t</td>\n",
              "      <td>1.225000</td>\n",
              "      <td>NaN</td>\n",
              "      <td>NaN</td>\n",
              "    </tr>\n",
              "    <tr>\n",
              "      <th>4</th>\n",
              "      <td>191201.0</td>\n",
              "      <td>500.0</td>\n",
              "      <td>11</td>\n",
              "      <td>2</td>\n",
              "      <td>0.3</td>\n",
              "      <td>129</td>\n",
              "      <td>22.5</td>\n",
              "      <td>96</td>\n",
              "      <td>78t</td>\n",
              "      <td>1.883333</td>\n",
              "      <td>NaN</td>\n",
              "      <td>NaN</td>\n",
              "    </tr>\n",
              "    <tr>\n",
              "      <th>...</th>\n",
              "      <td>...</td>\n",
              "      <td>...</td>\n",
              "      <td>...</td>\n",
              "      <td>...</td>\n",
              "      <td>...</td>\n",
              "      <td>...</td>\n",
              "      <td>...</td>\n",
              "      <td>...</td>\n",
              "      <td>...</td>\n",
              "      <td>...</td>\n",
              "      <td>...</td>\n",
              "      <td>...</td>\n",
              "    </tr>\n",
              "    <tr>\n",
              "      <th>207475</th>\n",
              "      <td>200930.0</td>\n",
              "      <td>2000.0</td>\n",
              "      <td>26</td>\n",
              "      <td>16</td>\n",
              "      <td>NaN</td>\n",
              "      <td>NaN</td>\n",
              "      <td>29.8</td>\n",
              "      <td>56</td>\n",
              "      <td>50t</td>\n",
              "      <td>5.466667</td>\n",
              "      <td>1.32</td>\n",
              "      <td>16</td>\n",
              "    </tr>\n",
              "    <tr>\n",
              "      <th>207476</th>\n",
              "      <td>200930.0</td>\n",
              "      <td>2100.0</td>\n",
              "      <td>23</td>\n",
              "      <td>18</td>\n",
              "      <td>NaN</td>\n",
              "      <td>NaN</td>\n",
              "      <td>29.4</td>\n",
              "      <td>59</td>\n",
              "      <td>50t</td>\n",
              "      <td>4.166667</td>\n",
              "      <td>1.07</td>\n",
              "      <td>14</td>\n",
              "    </tr>\n",
              "    <tr>\n",
              "      <th>207477</th>\n",
              "      <td>200930.0</td>\n",
              "      <td>2200.0</td>\n",
              "      <td>29</td>\n",
              "      <td>15</td>\n",
              "      <td>NaN</td>\n",
              "      <td>NaN</td>\n",
              "      <td>29</td>\n",
              "      <td>62</td>\n",
              "      <td>50t</td>\n",
              "      <td>2.091667</td>\n",
              "      <td>0.98</td>\n",
              "      <td>14</td>\n",
              "    </tr>\n",
              "    <tr>\n",
              "      <th>207478</th>\n",
              "      <td>200930.0</td>\n",
              "      <td>2300.0</td>\n",
              "      <td>32</td>\n",
              "      <td>20</td>\n",
              "      <td>NaN</td>\n",
              "      <td>NaN</td>\n",
              "      <td>28.8</td>\n",
              "      <td>63</td>\n",
              "      <td>50t</td>\n",
              "      <td>1.725000</td>\n",
              "      <td>0.75</td>\n",
              "      <td>12</td>\n",
              "    </tr>\n",
              "    <tr>\n",
              "      <th>207479</th>\n",
              "      <td>200930.0</td>\n",
              "      <td>2400.0</td>\n",
              "      <td>32</td>\n",
              "      <td>19</td>\n",
              "      <td>NaN</td>\n",
              "      <td>NaN</td>\n",
              "      <td>28.5</td>\n",
              "      <td>62</td>\n",
              "      <td>50t</td>\n",
              "      <td>2.158333</td>\n",
              "      <td>0.91</td>\n",
              "      <td>10</td>\n",
              "    </tr>\n",
              "  </tbody>\n",
              "</table>\n",
              "<p>207480 rows × 12 columns</p>\n",
              "</div>\n",
              "      <button class=\"colab-df-convert\" onclick=\"convertToInteractive('df-b962e68a-68e1-4abb-92c1-591942b6f9ff')\"\n",
              "              title=\"Convert this dataframe to an interactive table.\"\n",
              "              style=\"display:none;\">\n",
              "        \n",
              "  <svg xmlns=\"http://www.w3.org/2000/svg\" height=\"24px\"viewBox=\"0 0 24 24\"\n",
              "       width=\"24px\">\n",
              "    <path d=\"M0 0h24v24H0V0z\" fill=\"none\"/>\n",
              "    <path d=\"M18.56 5.44l.94 2.06.94-2.06 2.06-.94-2.06-.94-.94-2.06-.94 2.06-2.06.94zm-11 1L8.5 8.5l.94-2.06 2.06-.94-2.06-.94L8.5 2.5l-.94 2.06-2.06.94zm10 10l.94 2.06.94-2.06 2.06-.94-2.06-.94-.94-2.06-.94 2.06-2.06.94z\"/><path d=\"M17.41 7.96l-1.37-1.37c-.4-.4-.92-.59-1.43-.59-.52 0-1.04.2-1.43.59L10.3 9.45l-7.72 7.72c-.78.78-.78 2.05 0 2.83L4 21.41c.39.39.9.59 1.41.59.51 0 1.02-.2 1.41-.59l7.78-7.78 2.81-2.81c.8-.78.8-2.07 0-2.86zM5.41 20L4 18.59l7.72-7.72 1.47 1.35L5.41 20z\"/>\n",
              "  </svg>\n",
              "      </button>\n",
              "      \n",
              "  <style>\n",
              "    .colab-df-container {\n",
              "      display:flex;\n",
              "      flex-wrap:wrap;\n",
              "      gap: 12px;\n",
              "    }\n",
              "\n",
              "    .colab-df-convert {\n",
              "      background-color: #E8F0FE;\n",
              "      border: none;\n",
              "      border-radius: 50%;\n",
              "      cursor: pointer;\n",
              "      display: none;\n",
              "      fill: #1967D2;\n",
              "      height: 32px;\n",
              "      padding: 0 0 0 0;\n",
              "      width: 32px;\n",
              "    }\n",
              "\n",
              "    .colab-df-convert:hover {\n",
              "      background-color: #E2EBFA;\n",
              "      box-shadow: 0px 1px 2px rgba(60, 64, 67, 0.3), 0px 1px 3px 1px rgba(60, 64, 67, 0.15);\n",
              "      fill: #174EA6;\n",
              "    }\n",
              "\n",
              "    [theme=dark] .colab-df-convert {\n",
              "      background-color: #3B4455;\n",
              "      fill: #D2E3FC;\n",
              "    }\n",
              "\n",
              "    [theme=dark] .colab-df-convert:hover {\n",
              "      background-color: #434B5C;\n",
              "      box-shadow: 0px 1px 3px 1px rgba(0, 0, 0, 0.15);\n",
              "      filter: drop-shadow(0px 1px 2px rgba(0, 0, 0, 0.3));\n",
              "      fill: #FFFFFF;\n",
              "    }\n",
              "  </style>\n",
              "\n",
              "      <script>\n",
              "        const buttonEl =\n",
              "          document.querySelector('#df-b962e68a-68e1-4abb-92c1-591942b6f9ff button.colab-df-convert');\n",
              "        buttonEl.style.display =\n",
              "          google.colab.kernel.accessAllowed ? 'block' : 'none';\n",
              "\n",
              "        async function convertToInteractive(key) {\n",
              "          const element = document.querySelector('#df-b962e68a-68e1-4abb-92c1-591942b6f9ff');\n",
              "          const dataTable =\n",
              "            await google.colab.kernel.invokeFunction('convertToInteractive',\n",
              "                                                     [key], {});\n",
              "          if (!dataTable) return;\n",
              "\n",
              "          const docLinkHtml = 'Like what you see? Visit the ' +\n",
              "            '<a target=\"_blank\" href=https://colab.research.google.com/notebooks/data_table.ipynb>data table notebook</a>'\n",
              "            + ' to learn more about interactive tables.';\n",
              "          element.innerHTML = '';\n",
              "          dataTable['output_type'] = 'display_data';\n",
              "          await google.colab.output.renderOutput(dataTable, element);\n",
              "          const docLink = document.createElement('div');\n",
              "          docLink.innerHTML = docLinkHtml;\n",
              "          element.appendChild(docLink);\n",
              "        }\n",
              "      </script>\n",
              "    </div>\n",
              "  </div>\n",
              "  "
            ]
          },
          "metadata": {},
          "execution_count": 40
        }
      ]
    },
    {
      "cell_type": "code",
      "source": [
        "result.info()"
      ],
      "metadata": {
        "colab": {
          "base_uri": "https://localhost:8080/"
        },
        "id": "R5Kv-zo6TL4W",
        "outputId": "5a41629c-81b5-497a-c0a3-4e87ae6b1e98"
      },
      "execution_count": null,
      "outputs": [
        {
          "output_type": "stream",
          "name": "stdout",
          "text": [
            "<class 'pandas.core.frame.DataFrame'>\n",
            "RangeIndex: 207480 entries, 0 to 207479\n",
            "Data columns (total 12 columns):\n",
            " #   Column        Non-Null Count   Dtype  \n",
            "---  ------        --------------   -----  \n",
            " 0   ปี/เดือน/วัน  207480 non-null  float64\n",
            " 1   ชั่วโมง       207480 non-null  float64\n",
            " 2   PM10          166661 non-null  object \n",
            " 3   PM2.5         70177 non-null   object \n",
            " 4   Wind speed    148860 non-null  object \n",
            " 5   Wind dir      149160 non-null  object \n",
            " 6   Temp          184150 non-null  object \n",
            " 7   Rel hum       183632 non-null  object \n",
            " 8   Station       207480 non-null  object \n",
            " 9   index         174158 non-null  float64\n",
            " 10  CO            27486 non-null   object \n",
            " 11   NO2          27604 non-null   object \n",
            "dtypes: float64(3), object(9)\n",
            "memory usage: 19.0+ MB\n"
          ]
        }
      ]
    },
    {
      "cell_type": "markdown",
      "source": [
        "# *I*"
      ],
      "metadata": {
        "id": "z2fwcgcerFsU"
      }
    },
    {
      "cell_type": "code",
      "source": [
        "result1 = result.copy()"
      ],
      "metadata": {
        "id": "9kaZK4_0soxj"
      },
      "execution_count": null,
      "outputs": []
    },
    {
      "cell_type": "code",
      "source": [
        "filepath = \"/content/drive/MyDrive/DataScience_finalproject/PCD Data/Data before 2020-9/0hasPM2.5col/I/(33t)โรงพยาบาลส่งเสริมสุขภาพตำบลบ้านเขาหิน.xlsx\"\n",
        "df = pd.read_excel(filepath,usecols=\"A:I\", na_values=\"-\")\n",
        "df.drop(index=df.index[0], axis=0, inplace=True)\n",
        "colRename(df)\n",
        "\n",
        "df[\"Station\"] = \"33t\"\n",
        "\n",
        "#join to traffic\n",
        "df = df.join(traffic.set_index(['ปี/เดือน/วัน','ชั่วโมง']), on=['ปี/เดือน/วัน','ชั่วโมง'])"
      ],
      "metadata": {
        "id": "na-gdlstrqcD"
      },
      "execution_count": null,
      "outputs": []
    },
    {
      "cell_type": "code",
      "source": [
        "df.info()"
      ],
      "metadata": {
        "colab": {
          "base_uri": "https://localhost:8080/"
        },
        "id": "M_qRvWcQsVBK",
        "outputId": "8a11ce0c-6d73-47df-9959-08d6c871706c"
      },
      "execution_count": null,
      "outputs": [
        {
          "output_type": "stream",
          "name": "stdout",
          "text": [
            "<class 'pandas.core.frame.DataFrame'>\n",
            "Int64Index: 61392 entries, 1 to 61392\n",
            "Data columns (total 11 columns):\n",
            " #   Column        Non-Null Count  Dtype  \n",
            "---  ------        --------------  -----  \n",
            " 0   ปี/เดือน/วัน  61392 non-null  float64\n",
            " 1   ชั่วโมง       61392 non-null  float64\n",
            " 2    NO2          56867 non-null  object \n",
            " 3   O3            56582 non-null  object \n",
            " 4   PM10          59925 non-null  object \n",
            " 5   Wind speed    59946 non-null  object \n",
            " 6   Wind dir      60285 non-null  object \n",
            " 7   Temp          60090 non-null  object \n",
            " 8   PM2.5         16511 non-null  object \n",
            " 9   Station       61392 non-null  object \n",
            " 10  index         55126 non-null  float64\n",
            "dtypes: float64(3), object(8)\n",
            "memory usage: 5.6+ MB\n"
          ]
        }
      ]
    },
    {
      "cell_type": "code",
      "source": [
        "result = result.append(df,ignore_index=True)"
      ],
      "metadata": {
        "id": "AuxiM-OYs7nA"
      },
      "execution_count": null,
      "outputs": []
    },
    {
      "cell_type": "code",
      "source": [
        "result.info()"
      ],
      "metadata": {
        "colab": {
          "base_uri": "https://localhost:8080/"
        },
        "id": "CTpN9OMutAfR",
        "outputId": "f1194197-86a9-4ae1-d34d-90162c14bc89"
      },
      "execution_count": null,
      "outputs": [
        {
          "output_type": "stream",
          "name": "stdout",
          "text": [
            "<class 'pandas.core.frame.DataFrame'>\n",
            "RangeIndex: 268872 entries, 0 to 268871\n",
            "Data columns (total 13 columns):\n",
            " #   Column        Non-Null Count   Dtype  \n",
            "---  ------        --------------   -----  \n",
            " 0   ปี/เดือน/วัน  268872 non-null  float64\n",
            " 1   ชั่วโมง       268872 non-null  float64\n",
            " 2   PM10          226586 non-null  object \n",
            " 3   PM2.5         86688 non-null   object \n",
            " 4   Wind speed    208806 non-null  object \n",
            " 5   Wind dir      209445 non-null  object \n",
            " 6   Temp          244240 non-null  object \n",
            " 7   Rel hum       183632 non-null  object \n",
            " 8   Station       268872 non-null  object \n",
            " 9   index         229284 non-null  float64\n",
            " 10  CO            27486 non-null   object \n",
            " 11   NO2          84471 non-null   object \n",
            " 12  O3            56582 non-null   object \n",
            "dtypes: float64(3), object(10)\n",
            "memory usage: 26.7+ MB\n"
          ]
        }
      ]
    },
    {
      "cell_type": "markdown",
      "source": [
        "# *J*"
      ],
      "metadata": {
        "id": "l1T-SaU_tGT6"
      }
    },
    {
      "cell_type": "code",
      "source": [
        "result1 = result.copy()"
      ],
      "metadata": {
        "id": "kwJ287L6tI0A"
      },
      "execution_count": null,
      "outputs": []
    },
    {
      "cell_type": "code",
      "source": [
        "# result = result1.copy()\n",
        "# result"
      ],
      "metadata": {
        "id": "4j6wG0Suun38"
      },
      "execution_count": null,
      "outputs": []
    },
    {
      "cell_type": "code",
      "source": [
        "path = \"/content/drive/MyDrive/DataScience_finalproject/PCD Data/Data before 2020-9/0hasPM2.5col/J\""
      ],
      "metadata": {
        "id": "9dGSM3dHt3xC"
      },
      "execution_count": null,
      "outputs": []
    },
    {
      "cell_type": "code",
      "source": [
        "filelist = []\n",
        "for (dirpath, dirnames, filenames) in walk(path):\n",
        "    filelist += filenames"
      ],
      "metadata": {
        "id": "TURoPY9jt3xD"
      },
      "execution_count": null,
      "outputs": []
    },
    {
      "cell_type": "code",
      "source": [
        "filelist"
      ],
      "metadata": {
        "colab": {
          "base_uri": "https://localhost:8080/"
        },
        "outputId": "97779567-21a0-4b34-9850-e25eec2e66be",
        "id": "eyl6sYt4t3xD"
      },
      "execution_count": null,
      "outputs": [
        {
          "output_type": "execute_result",
          "data": {
            "text/plain": [
              "['(60t)สำนักงานเทศบาลตำบลทุ่งสะเดา จ.ฉะเชิงเทรา.xlsx',\n",
              " '(27t)โรงเรียนสมุทรสาครวิทยาลัย.xlsx',\n",
              " '(03t)ริมถนนกาญจนาภิเษก เขตบางขุนเทียน.xlsx',\n",
              " '(28t)สำนักงานสาธารณสุขอำเภอปลวกแดง.xlsx',\n",
              " '(53t)สถานีตำรวจนครบาลโชคชัย.xlsx',\n",
              " '(61t)โรงเรียนบดินทรเดชา (สิงห์ สิงหเสนี).xlsx',\n",
              " '(32t)สนามกีฬาเทศบาลแหลมฉบัง.xlsx',\n",
              " '(73t)สำนักงานสาธารณสุขแม่สาย.xlsx']"
            ]
          },
          "metadata": {},
          "execution_count": 58
        }
      ]
    },
    {
      "cell_type": "code",
      "source": [
        "for f in filelist:\n",
        "  filepath = path+\"/\"+f\n",
        "  df = pd.read_excel(filepath,usecols=\"A:J\",na_values=\"-\")\n",
        "  df.drop(index=df.index[0], axis=0, inplace=True)\n",
        "  \n",
        "  colRename(df)\n",
        "\n",
        "  # add station column\n",
        "  df[\"Station\"] = f[1:4]\n",
        "\n",
        "  # join traffic\n",
        "  df = df.join(traffic.set_index(['ปี/เดือน/วัน','ชั่วโมง']), on=['ปี/เดือน/วัน','ชั่วโมง'])\n",
        "\n",
        "  result = result.append(df,ignore_index=True)"
      ],
      "metadata": {
        "id": "h6IYY6l2uOpk"
      },
      "execution_count": null,
      "outputs": []
    },
    {
      "cell_type": "code",
      "source": [
        "result.info()"
      ],
      "metadata": {
        "colab": {
          "base_uri": "https://localhost:8080/"
        },
        "outputId": "b8dadef4-0f4d-4e72-83ab-e6d38c8142e1",
        "id": "nnWw65ZCuOpk"
      },
      "execution_count": null,
      "outputs": [
        {
          "output_type": "stream",
          "name": "stdout",
          "text": [
            "<class 'pandas.core.frame.DataFrame'>\n",
            "RangeIndex: 729408 entries, 0 to 729407\n",
            "Data columns (total 14 columns):\n",
            " #   Column        Non-Null Count   Dtype  \n",
            "---  ------        --------------   -----  \n",
            " 0   ปี/เดือน/วัน  729408 non-null  float64\n",
            " 1   ชั่วโมง       729408 non-null  float64\n",
            " 2   PM10          623243 non-null  object \n",
            " 3   PM2.5         243734 non-null  object \n",
            " 4   Wind speed    615758 non-null  object \n",
            " 5   Wind dir      618110 non-null  object \n",
            " 6   Temp          653871 non-null  object \n",
            " 7   Rel hum       262494 non-null  object \n",
            " 8   Station       729408 non-null  object \n",
            " 9   index         611937 non-null  float64\n",
            " 10  CO            153034 non-null  object \n",
            " 11   NO2          386935 non-null  object \n",
            " 12  O3            375311 non-null  object \n",
            " 13   SO2          269749 non-null  object \n",
            "dtypes: float64(3), object(11)\n",
            "memory usage: 77.9+ MB\n"
          ]
        }
      ]
    },
    {
      "cell_type": "markdown",
      "source": [
        "# *K*"
      ],
      "metadata": {
        "id": "gX5Vm75AwLic"
      }
    },
    {
      "cell_type": "code",
      "source": [
        "# result1 = result.copy()"
      ],
      "metadata": {
        "id": "6Yvdadkrwl6E"
      },
      "execution_count": null,
      "outputs": []
    },
    {
      "cell_type": "code",
      "source": [
        "# result = result1.copy()\n",
        "# result"
      ],
      "metadata": {
        "id": "8OqKe4kwwl6G"
      },
      "execution_count": null,
      "outputs": []
    },
    {
      "cell_type": "code",
      "source": [
        "path = \"/content/drive/MyDrive/DataScience_finalproject/PCD Data/Data before 2020-9/0hasPM2.5col/K\""
      ],
      "metadata": {
        "id": "qSpxplYowl6G"
      },
      "execution_count": null,
      "outputs": []
    },
    {
      "cell_type": "code",
      "source": [
        "filelist = []\n",
        "for (dirpath, dirnames, filenames) in walk(path):\n",
        "    filelist += filenames\n",
        "filelist"
      ],
      "metadata": {
        "colab": {
          "base_uri": "https://localhost:8080/"
        },
        "id": "_GB0YrMmwl6G",
        "outputId": "f273295e-53ca-405f-8ccc-db7dfe1c8a51"
      },
      "execution_count": null,
      "outputs": [
        {
          "output_type": "execute_result",
          "data": {
            "text/plain": [
              "['(63t)สนามโรงพิธีช้างเผือก จ.ยะลา.xlsx',\n",
              " '(70t)สนามกีฬาจังหวัดพะเยา.xlsx',\n",
              " '(77t)ศาลาประชาคมบ้านบุยายใบ จ.ปราจีนบุรี.xlsx',\n",
              " '(62t)ศาลากลางจังหวัดนราธิวาส.xlsx',\n",
              " '(70T)อุทยานการเรียนรู้ องค์การบริหารส่วนจังหวัดพะเยา (ปิดสถานี).xlsx',\n",
              " '(46t)ส่วนอุทกวิทยา สำนักงานทรัพยากรน้ำภาค 4 ขอนแก่น.xlsx',\n",
              " '(76t)ศูนย์การศึกษานอกโรงเรียน จ.ตาก.xlsx',\n",
              " '(34t)สำนักงานสิ่งแวดล้อมภาคที่ 13.xlsx',\n",
              " '(36t)โรงเรียนยุพราชวิทยาลัย.xlsx',\n",
              " '(35t)ศูนย์ราชการจังหวัดเชียงใหม่.xlsx',\n",
              " '(59t)กรมประชาสัมพันธ์.xlsx',\n",
              " '(26t)สำนักงานสิ่งแวดล้อมภาคที่ 8 ราชบุรี.xlsx']"
            ]
          },
          "metadata": {},
          "execution_count": 117
        }
      ]
    },
    {
      "cell_type": "code",
      "source": [
        "p = path+\"/\"+filelist[0]\n",
        "resultdic = pd.read_excel(p,usecols=\"A:K\",na_values=\"-\",sheet_name=None)\n",
        "\n",
        "result = resultdic[list(resultdic.keys())[1]]\n",
        "result.drop(index=result.index[0], axis=0, inplace=True)\n",
        "\n",
        "colRename(result)\n",
        "\n",
        "result[\"Station\"] = filelist[0][1:4]\n",
        "\n",
        "result = result.join(traffic.set_index(['ปี/เดือน/วัน','ชั่วโมง']), on=['ปี/เดือน/วัน','ชั่วโมง'])"
      ],
      "metadata": {
        "id": "F9HNAOWP1HVY"
      },
      "execution_count": null,
      "outputs": []
    },
    {
      "cell_type": "code",
      "source": [
        "result.info()"
      ],
      "metadata": {
        "colab": {
          "base_uri": "https://localhost:8080/"
        },
        "id": "L7r3Cb_X6LCA",
        "outputId": "d957ff57-5489-4da3-edaa-f567524e989c"
      },
      "execution_count": null,
      "outputs": [
        {
          "output_type": "stream",
          "name": "stdout",
          "text": [
            "<class 'pandas.core.frame.DataFrame'>\n",
            "Int64Index: 32856 entries, 1 to 32856\n",
            "Data columns (total 13 columns):\n",
            " #   Column        Non-Null Count  Dtype  \n",
            "---  ------        --------------  -----  \n",
            " 0   ปี/เดือน/วัน  32856 non-null  float64\n",
            " 1   ชั่วโมง       32856 non-null  float64\n",
            " 2   CO            25840 non-null  object \n",
            " 3   NO2           27521 non-null  object \n",
            " 4   O3            27540 non-null  object \n",
            " 5   PM10          27627 non-null  object \n",
            " 6   PM2.5         27723 non-null  object \n",
            " 7   Wind speed    27495 non-null  object \n",
            " 8   Wind dir      27561 non-null  object \n",
            " 9   Temp          28842 non-null  object \n",
            " 10  Rel hum       28842 non-null  object \n",
            " 11  Station       32856 non-null  object \n",
            " 12  index         29773 non-null  float64\n",
            "dtypes: float64(3), object(10)\n",
            "memory usage: 3.5+ MB\n"
          ]
        }
      ]
    },
    {
      "cell_type": "code",
      "source": [
        "for f in filelist[1:]:\n",
        "  filepath = path+\"/\"+f\n",
        "  df0 = pd.read_excel(filepath,usecols=\"A:K\",na_values=\"-\",sheet_name=None)\n",
        "  print(f)\n",
        "  for sheet in list(df0.keys()):\n",
        "    df = df0[sheet]\n",
        "    df.drop(index=df.index[0], axis=0, inplace=True)\n",
        "  \n",
        "    colRename(df)\n",
        "\n",
        "    # add station column\n",
        "    df[\"Station\"] = f[1:4]\n",
        "\n",
        "    # join traffic\n",
        "    df = df.join(traffic.set_index(['ปี/เดือน/วัน','ชั่วโมง']), on=['ปี/เดือน/วัน','ชั่วโมง'])\n",
        "\n",
        "    result = result.append(df,ignore_index=True)"
      ],
      "metadata": {
        "colab": {
          "base_uri": "https://localhost:8080/"
        },
        "id": "m761CZ4fwyUQ",
        "outputId": "eea2ea16-1193-4175-c88e-692fa3e2cf19"
      },
      "execution_count": null,
      "outputs": [
        {
          "output_type": "stream",
          "name": "stdout",
          "text": [
            "(70t)สนามกีฬาจังหวัดพะเยา.xlsx\n",
            "(77t)ศาลาประชาคมบ้านบุยายใบ จ.ปราจีนบุรี.xlsx\n",
            "(62t)ศาลากลางจังหวัดนราธิวาส.xlsx\n",
            "(70T)อุทยานการเรียนรู้ องค์การบริหารส่วนจังหวัดพะเยา (ปิดสถานี).xlsx\n",
            "(46t)ส่วนอุทกวิทยา สำนักงานทรัพยากรน้ำภาค 4 ขอนแก่น.xlsx\n",
            "(76t)ศูนย์การศึกษานอกโรงเรียน จ.ตาก.xlsx\n",
            "(34t)สำนักงานสิ่งแวดล้อมภาคที่ 13.xlsx\n",
            "(36t)โรงเรียนยุพราชวิทยาลัย.xlsx\n",
            "(35t)ศูนย์ราชการจังหวัดเชียงใหม่.xlsx\n",
            "(59t)กรมประชาสัมพันธ์.xlsx\n",
            "(26t)สำนักงานสิ่งแวดล้อมภาคที่ 8 ราชบุรี.xlsx\n"
          ]
        }
      ]
    },
    {
      "cell_type": "code",
      "source": [
        "result.columns"
      ],
      "metadata": {
        "colab": {
          "base_uri": "https://localhost:8080/"
        },
        "id": "O44GwopqxpgH",
        "outputId": "68121e84-8b5f-4fc6-e5c6-fbd4ec33cc32"
      },
      "execution_count": null,
      "outputs": [
        {
          "output_type": "execute_result",
          "data": {
            "text/plain": [
              "Index(['ปี/เดือน/วัน', 'ชั่วโมง', 'CO', 'NO2', 'O3', 'PM10', 'PM2.5',\n",
              "       'Wind speed', 'Wind dir', 'Temp', 'Rel hum', 'Station', 'index', ' CO ',\n",
              "       ' NO2', 'SO2', 'Unnamed: 8', 'Unnamed: 9', 'Unnamed: 10', ' SO2 ',\n",
              "       ' NO ', ' NOX ', ' Total HC', 'CH4 (ppm)'],\n",
              "      dtype='object')"
            ]
          },
          "metadata": {},
          "execution_count": 127
        }
      ]
    },
    {
      "cell_type": "code",
      "source": [
        "result.info()"
      ],
      "metadata": {
        "colab": {
          "base_uri": "https://localhost:8080/"
        },
        "outputId": "6f6ca439-74f4-4614-e8c1-aeef2b2c0328",
        "id": "IsBiILe6wyUR"
      },
      "execution_count": null,
      "outputs": [
        {
          "output_type": "stream",
          "name": "stdout",
          "text": [
            "<class 'pandas.core.frame.DataFrame'>\n",
            "RangeIndex: 811800 entries, 0 to 811799\n",
            "Data columns (total 24 columns):\n",
            " #   Column        Non-Null Count   Dtype  \n",
            "---  ------        --------------   -----  \n",
            " 0   ปี/เดือน/วัน  811800 non-null  float64\n",
            " 1   ชั่วโมง       811800 non-null  float64\n",
            " 2   CO            642573 non-null  object \n",
            " 3   NO2           124717 non-null  object \n",
            " 4   O3            611002 non-null  object \n",
            " 5   PM10          757079 non-null  object \n",
            " 6   PM2.5         363029 non-null  object \n",
            " 7   Wind speed    708597 non-null  object \n",
            " 8   Wind dir      704015 non-null  object \n",
            " 9   Temp          709948 non-null  object \n",
            " 10  Rel hum       582976 non-null  object \n",
            " 11  Station       811800 non-null  object \n",
            " 12  index         598190 non-null  float64\n",
            " 13   CO           10376 non-null   object \n",
            " 14   NO2          547976 non-null  object \n",
            " 15  SO2           35430 non-null   object \n",
            " 16  Unnamed: 8    1 non-null       float64\n",
            " 17  Unnamed: 9    1 non-null       float64\n",
            " 18  Unnamed: 10   1 non-null       float64\n",
            " 19   SO2          437117 non-null  object \n",
            " 20   NO           61368 non-null   object \n",
            " 21   NOX          61368 non-null   object \n",
            " 22   Total HC     61368 non-null   object \n",
            " 23  CH4 (ppm)     61368 non-null   object \n",
            "dtypes: float64(6), object(18)\n",
            "memory usage: 148.6+ MB\n"
          ]
        }
      ]
    },
    {
      "cell_type": "code",
      "source": [
        "result1 = result.copy()"
      ],
      "metadata": {
        "id": "1SqnxApL-vbk"
      },
      "execution_count": null,
      "outputs": []
    },
    {
      "cell_type": "code",
      "source": [
        "#result = result1.copy()"
      ],
      "metadata": {
        "id": "WVtISMIEAZag"
      },
      "execution_count": null,
      "outputs": []
    },
    {
      "cell_type": "markdown",
      "source": [
        "**J ลืมดู sheet อื่นๆ**"
      ],
      "metadata": {
        "id": "Qe7ubkOs_zR7"
      }
    },
    {
      "cell_type": "code",
      "source": [
        "path = \"/content/drive/MyDrive/DataScience_finalproject/PCD Data/Data before 2020-9/0hasPM2.5col/J\"\n",
        "filelist = [\"(53t)สถานีตำรวจนครบาลโชคชัย.xlsx\",\"(61t)โรงเรียนบดินทรเดชา (สิงห์ สิงหเสนี).xlsx\"]"
      ],
      "metadata": {
        "id": "tVXCyR1z_XjO"
      },
      "execution_count": null,
      "outputs": []
    },
    {
      "cell_type": "code",
      "source": [
        "for f in filelist:\n",
        "  filepath = path+\"/\"+f\n",
        "  df0 = pd.read_excel(filepath,usecols=\"A:J\",na_values=\"-\",sheet_name=None)\n",
        "  print(f)\n",
        "  for sheet in list(df0.keys())[1:]:\n",
        "    df = df0[sheet]\n",
        "    df.drop(index=df.index[0], axis=0, inplace=True)\n",
        "  \n",
        "    colRename(df)\n",
        "\n",
        "    # add station column\n",
        "    df[\"Station\"] = f[1:4]\n",
        "\n",
        "    # join traffic\n",
        "    df = df.join(traffic.set_index(['ปี/เดือน/วัน','ชั่วโมง']), on=['ปี/เดือน/วัน','ชั่วโมง'])\n",
        "\n",
        "    result = result.append(df,ignore_index=True)"
      ],
      "metadata": {
        "colab": {
          "base_uri": "https://localhost:8080/"
        },
        "id": "NuG4TyAk-yE9",
        "outputId": "fb0721b9-43be-4d7e-9739-156f31807709"
      },
      "execution_count": null,
      "outputs": [
        {
          "output_type": "stream",
          "name": "stdout",
          "text": [
            "(53t)สถานีตำรวจนครบาลโชคชัย.xlsx\n",
            "(61t)โรงเรียนบดินทรเดชา (สิงห์ สิงหเสนี).xlsx\n"
          ]
        }
      ]
    },
    {
      "cell_type": "code",
      "source": [
        "result.info()"
      ],
      "metadata": {
        "colab": {
          "base_uri": "https://localhost:8080/"
        },
        "id": "eisQKcqiA1Hj",
        "outputId": "50049ec9-c7f1-433d-a5fb-11995f061bf7"
      },
      "execution_count": null,
      "outputs": [
        {
          "output_type": "stream",
          "name": "stdout",
          "text": [
            "<class 'pandas.core.frame.DataFrame'>\n",
            "RangeIndex: 94944 entries, 0 to 94943\n",
            "Data columns (total 14 columns):\n",
            " #   Column        Non-Null Count  Dtype  \n",
            "---  ------        --------------  -----  \n",
            " 0   ปี/เดือน/วัน  94944 non-null  float64\n",
            " 1   ชั่วโมง       94944 non-null  float64\n",
            " 2   CO            52045 non-null  object \n",
            " 3   O3            44909 non-null  object \n",
            " 4    NO2          84627 non-null  object \n",
            " 5    SO2          42968 non-null  object \n",
            " 6   PM10          81436 non-null  object \n",
            " 7   Rel hum       55830 non-null  object \n",
            " 8   Temp          88843 non-null  object \n",
            " 9   Wind dir      84465 non-null  object \n",
            " 10  Wind speed    86555 non-null  object \n",
            " 11  PM2.5         78622 non-null  object \n",
            " 12  Station       94944 non-null  object \n",
            " 13  index         86067 non-null  float64\n",
            "dtypes: float64(3), object(11)\n",
            "memory usage: 10.1+ MB\n"
          ]
        }
      ]
    },
    {
      "cell_type": "markdown",
      "source": [
        "# *L*"
      ],
      "metadata": {
        "id": "SWuNqoArB8bO"
      }
    },
    {
      "cell_type": "code",
      "source": [
        "path = \"/content/drive/MyDrive/DataScience_finalproject/PCD Data/Data before 2020-9/0hasPM2.5col/L\""
      ],
      "metadata": {
        "id": "VrDTL-v_ClVc"
      },
      "execution_count": null,
      "outputs": []
    },
    {
      "cell_type": "code",
      "source": [
        "filelist = []\n",
        "for (dirpath, dirnames, filenames) in walk(path):\n",
        "    filelist += filenames\n",
        "filelist"
      ],
      "metadata": {
        "colab": {
          "base_uri": "https://localhost:8080/"
        },
        "outputId": "56a21c43-f4d3-4424-a8a3-c7bc2cb01f5d",
        "id": "yf8XzJyXClVd"
      },
      "execution_count": null,
      "outputs": [
        {
          "output_type": "execute_result",
          "data": {
            "text/plain": [
              "['(42t)สำนักงานสิ่งแวดล้อมภาคที่ 14 สุราษฎร์ธานี.xlsx',\n",
              " '(44t)เทศบาลนครหาดใหญ่ จ.สงขลา.xlsx',\n",
              " '(41t)โครงการชลประทานนครสวรรค์.xlsx',\n",
              " '(68t)อุตุนิยมวิทยาจังหวัดลำพูน.xlsx',\n",
              " '(47t)สถานีโรงสูบน้ำประตูพลแสน จ.นครราชสีมา.xlsx',\n",
              " '(43t)ศุนย์บริการสาธารณสุขนครภูเก็ต.xlsx',\n",
              " '(30t)สำนักงานเกษตรจังหวัดระยอง.xlsx',\n",
              " '(74t)ศูนย์ราชการจังหวัดระยอง.xlsx',\n",
              " '(24t)สถานีตำรวจภูธรตำบลหน้าพระลาน.xlsx',\n",
              " '(31t)ศูนย์วิจัยพืชไร่ระยอง.xlsx',\n",
              " '(22t)มหาวิทยาลัยสุโขทัยธรรมาธิราช.xlsx',\n",
              " '(54t)การเคหะดินแดง.xlsx',\n",
              " '(19t)การเคหะชุมชนเมืองใหม่บางพลี.xlsx',\n",
              " '(13t)การไฟฟ้าฝ่ายผลิตแห่งประเทศไทย.xlsx',\n",
              " '(18t)ศาลากลางจังหวัดสมุทรปราการ.xlsx',\n",
              " '(67t)สำนักงานเทศบาลเมืองน่าน.xlsx',\n",
              " '(37t)สถานีอุตุนิยมวิทยาลำปาง.xlsx',\n",
              " '(52t)การไฟฟ้าย่อยธนบุรี.xlsx',\n",
              " '(40t)การประปาส่วนภูมิภาคแม่เมาะ.xls',\n",
              " '(05t)กรมอุตุนิยมวิทยาบางนา.xlsx',\n",
              " '(02t)มหาวิทยาลัยราชภัฏบ้านสมเด็จเจ้าพระยา.xlsx',\n",
              " '(81t)อ่างเก็บน้ำประปา นครปฐม.xlsx',\n",
              " '(82t)สวนสาธารณะหนองถิ่น จ.หนองคาย.xlsx',\n",
              " '(75t)โรงพยาบาลเฉลิมพระเกียรติ จ.น่าน.xlsx',\n",
              " '(57t)สำนักงานทรัพยากรธรรมชาติและสิ่งแวดล้อมจังหวัดเชียงราย.xlsx']"
            ]
          },
          "metadata": {},
          "execution_count": 225
        }
      ]
    },
    {
      "cell_type": "code",
      "source": [
        "del filelist[11]\n",
        "filelist"
      ],
      "metadata": {
        "colab": {
          "base_uri": "https://localhost:8080/"
        },
        "id": "-P6p_ZiGE8cJ",
        "outputId": "c584ddbf-e1ce-4731-819c-08348ec117b7"
      },
      "execution_count": null,
      "outputs": [
        {
          "output_type": "execute_result",
          "data": {
            "text/plain": [
              "['(42t)สำนักงานสิ่งแวดล้อมภาคที่ 14 สุราษฎร์ธานี.xlsx',\n",
              " '(44t)เทศบาลนครหาดใหญ่ จ.สงขลา.xlsx',\n",
              " '(41t)โครงการชลประทานนครสวรรค์.xlsx',\n",
              " '(68t)อุตุนิยมวิทยาจังหวัดลำพูน.xlsx',\n",
              " '(47t)สถานีโรงสูบน้ำประตูพลแสน จ.นครราชสีมา.xlsx',\n",
              " '(43t)ศุนย์บริการสาธารณสุขนครภูเก็ต.xlsx',\n",
              " '(30t)สำนักงานเกษตรจังหวัดระยอง.xlsx',\n",
              " '(74t)ศูนย์ราชการจังหวัดระยอง.xlsx',\n",
              " '(24t)สถานีตำรวจภูธรตำบลหน้าพระลาน.xlsx',\n",
              " '(31t)ศูนย์วิจัยพืชไร่ระยอง.xlsx',\n",
              " '(22t)มหาวิทยาลัยสุโขทัยธรรมาธิราช.xlsx',\n",
              " '(19t)การเคหะชุมชนเมืองใหม่บางพลี.xlsx',\n",
              " '(13t)การไฟฟ้าฝ่ายผลิตแห่งประเทศไทย.xlsx',\n",
              " '(18t)ศาลากลางจังหวัดสมุทรปราการ.xlsx',\n",
              " '(67t)สำนักงานเทศบาลเมืองน่าน.xlsx',\n",
              " '(37t)สถานีอุตุนิยมวิทยาลำปาง.xlsx',\n",
              " '(52t)การไฟฟ้าย่อยธนบุรี.xlsx',\n",
              " '(40t)การประปาส่วนภูมิภาคแม่เมาะ.xls',\n",
              " '(05t)กรมอุตุนิยมวิทยาบางนา.xlsx',\n",
              " '(02t)มหาวิทยาลัยราชภัฏบ้านสมเด็จเจ้าพระยา.xlsx',\n",
              " '(81t)อ่างเก็บน้ำประปา นครปฐม.xlsx',\n",
              " '(82t)สวนสาธารณะหนองถิ่น จ.หนองคาย.xlsx',\n",
              " '(75t)โรงพยาบาลเฉลิมพระเกียรติ จ.น่าน.xlsx',\n",
              " '(57t)สำนักงานทรัพยากรธรรมชาติและสิ่งแวดล้อมจังหวัดเชียงราย.xlsx']"
            ]
          },
          "metadata": {},
          "execution_count": 207
        }
      ]
    },
    {
      "cell_type": "code",
      "source": [
        "del filelist[16]\n",
        "filelist"
      ],
      "metadata": {
        "colab": {
          "base_uri": "https://localhost:8080/"
        },
        "id": "IR-tAuWMJ7ab",
        "outputId": "18cd341d-3c76-4f9a-af1c-1a99898503de"
      },
      "execution_count": null,
      "outputs": [
        {
          "output_type": "execute_result",
          "data": {
            "text/plain": [
              "['(42t)สำนักงานสิ่งแวดล้อมภาคที่ 14 สุราษฎร์ธานี.xlsx',\n",
              " '(44t)เทศบาลนครหาดใหญ่ จ.สงขลา.xlsx',\n",
              " '(41t)โครงการชลประทานนครสวรรค์.xlsx',\n",
              " '(68t)อุตุนิยมวิทยาจังหวัดลำพูน.xlsx',\n",
              " '(47t)สถานีโรงสูบน้ำประตูพลแสน จ.นครราชสีมา.xlsx',\n",
              " '(43t)ศุนย์บริการสาธารณสุขนครภูเก็ต.xlsx',\n",
              " '(30t)สำนักงานเกษตรจังหวัดระยอง.xlsx',\n",
              " '(74t)ศูนย์ราชการจังหวัดระยอง.xlsx',\n",
              " '(24t)สถานีตำรวจภูธรตำบลหน้าพระลาน.xlsx',\n",
              " '(31t)ศูนย์วิจัยพืชไร่ระยอง.xlsx',\n",
              " '(22t)มหาวิทยาลัยสุโขทัยธรรมาธิราช.xlsx',\n",
              " '(19t)การเคหะชุมชนเมืองใหม่บางพลี.xlsx',\n",
              " '(13t)การไฟฟ้าฝ่ายผลิตแห่งประเทศไทย.xlsx',\n",
              " '(18t)ศาลากลางจังหวัดสมุทรปราการ.xlsx',\n",
              " '(67t)สำนักงานเทศบาลเมืองน่าน.xlsx',\n",
              " '(37t)สถานีอุตุนิยมวิทยาลำปาง.xlsx',\n",
              " '(40t)การประปาส่วนภูมิภาคแม่เมาะ.xls',\n",
              " '(05t)กรมอุตุนิยมวิทยาบางนา.xlsx',\n",
              " '(02t)มหาวิทยาลัยราชภัฏบ้านสมเด็จเจ้าพระยา.xlsx',\n",
              " '(81t)อ่างเก็บน้ำประปา นครปฐม.xlsx',\n",
              " '(82t)สวนสาธารณะหนองถิ่น จ.หนองคาย.xlsx',\n",
              " '(75t)โรงพยาบาลเฉลิมพระเกียรติ จ.น่าน.xlsx',\n",
              " '(57t)สำนักงานทรัพยากรธรรมชาติและสิ่งแวดล้อมจังหวัดเชียงราย.xlsx']"
            ]
          },
          "metadata": {},
          "execution_count": 208
        }
      ]
    },
    {
      "cell_type": "code",
      "source": [
        "del filelist[15]\n",
        "filelist"
      ],
      "metadata": {
        "colab": {
          "base_uri": "https://localhost:8080/"
        },
        "id": "gh47le2JLDWr",
        "outputId": "8567a59c-b219-4684-86fe-27695c8be2ff"
      },
      "execution_count": null,
      "outputs": [
        {
          "output_type": "execute_result",
          "data": {
            "text/plain": [
              "['(42t)สำนักงานสิ่งแวดล้อมภาคที่ 14 สุราษฎร์ธานี.xlsx',\n",
              " '(44t)เทศบาลนครหาดใหญ่ จ.สงขลา.xlsx',\n",
              " '(41t)โครงการชลประทานนครสวรรค์.xlsx',\n",
              " '(68t)อุตุนิยมวิทยาจังหวัดลำพูน.xlsx',\n",
              " '(47t)สถานีโรงสูบน้ำประตูพลแสน จ.นครราชสีมา.xlsx',\n",
              " '(43t)ศุนย์บริการสาธารณสุขนครภูเก็ต.xlsx',\n",
              " '(30t)สำนักงานเกษตรจังหวัดระยอง.xlsx',\n",
              " '(74t)ศูนย์ราชการจังหวัดระยอง.xlsx',\n",
              " '(24t)สถานีตำรวจภูธรตำบลหน้าพระลาน.xlsx',\n",
              " '(31t)ศูนย์วิจัยพืชไร่ระยอง.xlsx',\n",
              " '(22t)มหาวิทยาลัยสุโขทัยธรรมาธิราช.xlsx',\n",
              " '(19t)การเคหะชุมชนเมืองใหม่บางพลี.xlsx',\n",
              " '(13t)การไฟฟ้าฝ่ายผลิตแห่งประเทศไทย.xlsx',\n",
              " '(18t)ศาลากลางจังหวัดสมุทรปราการ.xlsx',\n",
              " '(67t)สำนักงานเทศบาลเมืองน่าน.xlsx',\n",
              " '(40t)การประปาส่วนภูมิภาคแม่เมาะ.xls',\n",
              " '(05t)กรมอุตุนิยมวิทยาบางนา.xlsx',\n",
              " '(02t)มหาวิทยาลัยราชภัฏบ้านสมเด็จเจ้าพระยา.xlsx',\n",
              " '(81t)อ่างเก็บน้ำประปา นครปฐม.xlsx',\n",
              " '(82t)สวนสาธารณะหนองถิ่น จ.หนองคาย.xlsx',\n",
              " '(75t)โรงพยาบาลเฉลิมพระเกียรติ จ.น่าน.xlsx',\n",
              " '(57t)สำนักงานทรัพยากรธรรมชาติและสิ่งแวดล้อมจังหวัดเชียงราย.xlsx']"
            ]
          },
          "metadata": {},
          "execution_count": 209
        }
      ]
    },
    {
      "cell_type": "markdown",
      "source": [
        "*L1*"
      ],
      "metadata": {
        "id": "OSEXcbraJFO5"
      }
    },
    {
      "cell_type": "code",
      "source": [
        "p = path+\"/\"+filelist[0]\n",
        "resultdic = pd.read_excel(p,usecols=\"A:L\",na_values=\"-\",sheet_name=None)\n",
        "\n",
        "result = resultdic[list(resultdic.keys())[0]]\n",
        "result.drop(index=result.index[0], axis=0, inplace=True)\n",
        "\n",
        "colRename(result)\n",
        "\n",
        "result[\"Station\"] = filelist[0][1:4]\n",
        "\n",
        "result = result.join(traffic.set_index(['ปี/เดือน/วัน','ชั่วโมง']), on=['ปี/เดือน/วัน','ชั่วโมง'])"
      ],
      "metadata": {
        "id": "TYpnYMXUClVd"
      },
      "execution_count": null,
      "outputs": []
    },
    {
      "cell_type": "code",
      "source": [
        "result.info()"
      ],
      "metadata": {
        "colab": {
          "base_uri": "https://localhost:8080/"
        },
        "outputId": "eafaa241-c277-4f67-c943-7fc588437dc2",
        "id": "b9MQaC-SClVd"
      },
      "execution_count": null,
      "outputs": [
        {
          "output_type": "stream",
          "name": "stdout",
          "text": [
            "<class 'pandas.core.frame.DataFrame'>\n",
            "Int64Index: 61368 entries, 1 to 61368\n",
            "Data columns (total 14 columns):\n",
            " #   Column        Non-Null Count  Dtype  \n",
            "---  ------        --------------  -----  \n",
            " 0   ปี/เดือน/วัน  61368 non-null  float64\n",
            " 1   ชั่วโมง       61368 non-null  float64\n",
            " 2   CO            49880 non-null  object \n",
            " 3   O3            50395 non-null  object \n",
            " 4    NO2          50517 non-null  object \n",
            " 5    SO2          48705 non-null  object \n",
            " 6   PM10          51396 non-null  object \n",
            " 7   Rel hum       50848 non-null  object \n",
            " 8   Temp          50623 non-null  object \n",
            " 9   Wind dir      51028 non-null  object \n",
            " 10  Wind speed    51479 non-null  object \n",
            " 11  Unnamed: 11   0 non-null      float64\n",
            " 12  Station       61368 non-null  object \n",
            " 13  index         40386 non-null  float64\n",
            "dtypes: float64(4), object(10)\n",
            "memory usage: 7.0+ MB\n"
          ]
        }
      ]
    },
    {
      "cell_type": "code",
      "source": [
        "for f in filelist[1:13]:\n",
        "  filepath = path+\"/\"+f\n",
        "  df0 = pd.read_excel(filepath,usecols=\"A:L\",na_values=\"-\",sheet_name=None)\n",
        "  print(f)\n",
        "  for sheet in list(df0.keys()):\n",
        "    df = df0[sheet]\n",
        "    df.drop(index=df.index[0], axis=0, inplace=True)\n",
        "  \n",
        "    colRename(df)\n",
        "\n",
        "    # add station column\n",
        "    df[\"Station\"] = f[1:4]\n",
        "\n",
        "    # join traffic\n",
        "    df = df.join(traffic.set_index(['ปี/เดือน/วัน','ชั่วโมง']), on=['ปี/เดือน/วัน','ชั่วโมง'])\n",
        "\n",
        "    result = result.append(df,ignore_index=True)"
      ],
      "metadata": {
        "colab": {
          "base_uri": "https://localhost:8080/"
        },
        "outputId": "f87fc515-54a4-4e42-b199-8cc4af8c330d",
        "id": "Dyi7VmYWClVd"
      },
      "execution_count": null,
      "outputs": [
        {
          "output_type": "stream",
          "name": "stdout",
          "text": [
            "(44t)เทศบาลนครหาดใหญ่ จ.สงขลา.xlsx\n",
            "(41t)โครงการชลประทานนครสวรรค์.xlsx\n",
            "(68t)อุตุนิยมวิทยาจังหวัดลำพูน.xlsx\n",
            "(47t)สถานีโรงสูบน้ำประตูพลแสน จ.นครราชสีมา.xlsx\n",
            "(43t)ศุนย์บริการสาธารณสุขนครภูเก็ต.xlsx\n",
            "(30t)สำนักงานเกษตรจังหวัดระยอง.xlsx\n",
            "(74t)ศูนย์ราชการจังหวัดระยอง.xlsx\n",
            "(24t)สถานีตำรวจภูธรตำบลหน้าพระลาน.xlsx\n",
            "(31t)ศูนย์วิจัยพืชไร่ระยอง.xlsx\n",
            "(22t)มหาวิทยาลัยสุโขทัยธรรมาธิราช.xlsx\n",
            "(19t)การเคหะชุมชนเมืองใหม่บางพลี.xlsx\n",
            "(13t)การไฟฟ้าฝ่ายผลิตแห่งประเทศไทย.xlsx\n"
          ]
        }
      ]
    },
    {
      "cell_type": "code",
      "source": [
        "result.info()"
      ],
      "metadata": {
        "colab": {
          "base_uri": "https://localhost:8080/"
        },
        "id": "phjKwiFLDGae",
        "outputId": "290e3b8e-681b-48d7-abe0-9d5e6aecdb7c"
      },
      "execution_count": null,
      "outputs": [
        {
          "output_type": "stream",
          "name": "stdout",
          "text": [
            "<class 'pandas.core.frame.DataFrame'>\n",
            "RangeIndex: 1080312 entries, 0 to 1080311\n",
            "Data columns (total 18 columns):\n",
            " #   Column        Non-Null Count    Dtype  \n",
            "---  ------        --------------    -----  \n",
            " 0   ปี/เดือน/วัน  1080312 non-null  float64\n",
            " 1   ชั่วโมง       1080312 non-null  float64\n",
            " 2   CO            889836 non-null   object \n",
            " 3    NO2          853484 non-null   object \n",
            " 4    SO2          865200 non-null   object \n",
            " 5   O3            874899 non-null   object \n",
            " 6   PM10          943344 non-null   object \n",
            " 7   Wind speed    832264 non-null   object \n",
            " 8   Wind dir      948359 non-null   object \n",
            " 9   Temp          954310 non-null   object \n",
            " 10  Rel hum       948815 non-null   object \n",
            " 11  PM2.5         344473 non-null   object \n",
            " 12  Station       1080312 non-null  object \n",
            " 13  index         844353 non-null   float64\n",
            " 14   WS           71644 non-null    object \n",
            " 15  Unnamed: 11   1 non-null        float64\n",
            " 16   Pressure     105127 non-null   object \n",
            " 17   Rain         55474 non-null    object \n",
            "dtypes: float64(4), object(14)\n",
            "memory usage: 148.4+ MB\n"
          ]
        }
      ]
    },
    {
      "cell_type": "markdown",
      "source": [
        "*L2*"
      ],
      "metadata": {
        "id": "yjIrAobwJHRI"
      }
    },
    {
      "cell_type": "code",
      "source": [
        "p = path+\"/\"+filelist[13]\n",
        "resultdic = pd.read_excel(p,usecols=\"A:L\",na_values=\"-\",sheet_name=None)\n",
        "\n",
        "result = resultdic[list(resultdic.keys())[1]]\n",
        "result.drop(index=result.index[0], axis=0, inplace=True)\n",
        "\n",
        "colRename(result)\n",
        "\n",
        "result[\"Station\"] = filelist[0][1:4]\n",
        "\n",
        "result = result.join(traffic.set_index(['ปี/เดือน/วัน','ชั่วโมง']), on=['ปี/เดือน/วัน','ชั่วโมง'])"
      ],
      "metadata": {
        "id": "6xBpXGDrJDVy"
      },
      "execution_count": null,
      "outputs": []
    },
    {
      "cell_type": "code",
      "source": [
        "result.info()"
      ],
      "metadata": {
        "colab": {
          "base_uri": "https://localhost:8080/"
        },
        "id": "-lGEHBjCJMZD",
        "outputId": "404acbb2-4fa0-4132-8840-8d1cd6ada4f4"
      },
      "execution_count": null,
      "outputs": [
        {
          "output_type": "stream",
          "name": "stdout",
          "text": [
            "<class 'pandas.core.frame.DataFrame'>\n",
            "Int64Index: 32856 entries, 1 to 32856\n",
            "Data columns (total 14 columns):\n",
            " #   Column        Non-Null Count  Dtype  \n",
            "---  ------        --------------  -----  \n",
            " 0   ปี/เดือน/วัน  32856 non-null  float64\n",
            " 1   ชั่วโมง       32856 non-null  float64\n",
            " 2   CO            24514 non-null  object \n",
            " 3   O3            26451 non-null  object \n",
            " 4    NO2          26848 non-null  object \n",
            " 5    SO2          21388 non-null  object \n",
            " 6   PM10          21471 non-null  object \n",
            " 7   Rel hum       27063 non-null  object \n",
            " 8   Temp          27625 non-null  object \n",
            " 9   Wind dir      23080 non-null  object \n",
            " 10  Wind speed    25375 non-null  object \n",
            " 11  PM2.5         18886 non-null  object \n",
            " 12  Station       32856 non-null  object \n",
            " 13  index         29773 non-null  float64\n",
            "dtypes: float64(3), object(11)\n",
            "memory usage: 3.8+ MB\n"
          ]
        }
      ]
    },
    {
      "cell_type": "code",
      "source": [
        "for f in filelist[14:]:\n",
        "  filepath = path+\"/\"+f\n",
        "  df0 = pd.read_excel(filepath,usecols=\"A:L\",na_values=\"-\",sheet_name=None)\n",
        "  print(f)\n",
        "  for sheet in list(df0.keys()):\n",
        "    df = df0[sheet]\n",
        "    df.drop(index=df.index[0], axis=0, inplace=True)\n",
        "  \n",
        "    colRename(df)\n",
        "\n",
        "    # add station column\n",
        "    df[\"Station\"] = f[1:4]\n",
        "\n",
        "    # join traffic\n",
        "    df = df.join(traffic.set_index(['ปี/เดือน/วัน','ชั่วโมง']), on=['ปี/เดือน/วัน','ชั่วโมง'])\n",
        "\n",
        "    result = result.append(df,ignore_index=True)"
      ],
      "metadata": {
        "colab": {
          "base_uri": "https://localhost:8080/",
          "height": 537
        },
        "id": "Df8py9LBGr6G",
        "outputId": "fcaeb505-c7c5-4514-81a9-72321a206123"
      },
      "execution_count": null,
      "outputs": [
        {
          "output_type": "stream",
          "name": "stdout",
          "text": [
            "(67t)สำนักงานเทศบาลเมืองน่าน.xlsx\n"
          ]
        },
        {
          "output_type": "error",
          "ename": "ImportError",
          "evalue": "ignored",
          "traceback": [
            "\u001b[0;31m---------------------------------------------------------------------------\u001b[0m",
            "\u001b[0;31mImportError\u001b[0m                               Traceback (most recent call last)",
            "\u001b[0;32m<ipython-input-191-516373d99258>\u001b[0m in \u001b[0;36m<module>\u001b[0;34m()\u001b[0m\n\u001b[1;32m      1\u001b[0m \u001b[0;32mfor\u001b[0m \u001b[0mf\u001b[0m \u001b[0;32min\u001b[0m \u001b[0mfilelist\u001b[0m\u001b[0;34m[\u001b[0m\u001b[0;36m14\u001b[0m\u001b[0;34m:\u001b[0m\u001b[0;34m]\u001b[0m\u001b[0;34m:\u001b[0m\u001b[0;34m\u001b[0m\u001b[0;34m\u001b[0m\u001b[0m\n\u001b[1;32m      2\u001b[0m   \u001b[0mfilepath\u001b[0m \u001b[0;34m=\u001b[0m \u001b[0mpath\u001b[0m\u001b[0;34m+\u001b[0m\u001b[0;34m\"/\"\u001b[0m\u001b[0;34m+\u001b[0m\u001b[0mf\u001b[0m\u001b[0;34m\u001b[0m\u001b[0;34m\u001b[0m\u001b[0m\n\u001b[0;32m----> 3\u001b[0;31m   \u001b[0mdf0\u001b[0m \u001b[0;34m=\u001b[0m \u001b[0mpd\u001b[0m\u001b[0;34m.\u001b[0m\u001b[0mread_excel\u001b[0m\u001b[0;34m(\u001b[0m\u001b[0mfilepath\u001b[0m\u001b[0;34m,\u001b[0m\u001b[0musecols\u001b[0m\u001b[0;34m=\u001b[0m\u001b[0;34m\"A:L\"\u001b[0m\u001b[0;34m,\u001b[0m\u001b[0mna_values\u001b[0m\u001b[0;34m=\u001b[0m\u001b[0;34m\"-\"\u001b[0m\u001b[0;34m,\u001b[0m\u001b[0msheet_name\u001b[0m\u001b[0;34m=\u001b[0m\u001b[0;32mNone\u001b[0m\u001b[0;34m)\u001b[0m\u001b[0;34m\u001b[0m\u001b[0;34m\u001b[0m\u001b[0m\n\u001b[0m\u001b[1;32m      4\u001b[0m   \u001b[0mprint\u001b[0m\u001b[0;34m(\u001b[0m\u001b[0mf\u001b[0m\u001b[0;34m)\u001b[0m\u001b[0;34m\u001b[0m\u001b[0;34m\u001b[0m\u001b[0m\n\u001b[1;32m      5\u001b[0m   \u001b[0;32mfor\u001b[0m \u001b[0msheet\u001b[0m \u001b[0;32min\u001b[0m \u001b[0mlist\u001b[0m\u001b[0;34m(\u001b[0m\u001b[0mdf0\u001b[0m\u001b[0;34m.\u001b[0m\u001b[0mkeys\u001b[0m\u001b[0;34m(\u001b[0m\u001b[0;34m)\u001b[0m\u001b[0;34m)\u001b[0m\u001b[0;34m:\u001b[0m\u001b[0;34m\u001b[0m\u001b[0;34m\u001b[0m\u001b[0m\n",
            "\u001b[0;32m/usr/local/lib/python3.7/dist-packages/pandas/util/_decorators.py\u001b[0m in \u001b[0;36mwrapper\u001b[0;34m(*args, **kwargs)\u001b[0m\n\u001b[1;32m    309\u001b[0m                     \u001b[0mstacklevel\u001b[0m\u001b[0;34m=\u001b[0m\u001b[0mstacklevel\u001b[0m\u001b[0;34m,\u001b[0m\u001b[0;34m\u001b[0m\u001b[0;34m\u001b[0m\u001b[0m\n\u001b[1;32m    310\u001b[0m                 )\n\u001b[0;32m--> 311\u001b[0;31m             \u001b[0;32mreturn\u001b[0m \u001b[0mfunc\u001b[0m\u001b[0;34m(\u001b[0m\u001b[0;34m*\u001b[0m\u001b[0margs\u001b[0m\u001b[0;34m,\u001b[0m \u001b[0;34m**\u001b[0m\u001b[0mkwargs\u001b[0m\u001b[0;34m)\u001b[0m\u001b[0;34m\u001b[0m\u001b[0;34m\u001b[0m\u001b[0m\n\u001b[0m\u001b[1;32m    312\u001b[0m \u001b[0;34m\u001b[0m\u001b[0m\n\u001b[1;32m    313\u001b[0m         \u001b[0;32mreturn\u001b[0m \u001b[0mwrapper\u001b[0m\u001b[0;34m\u001b[0m\u001b[0;34m\u001b[0m\u001b[0m\n",
            "\u001b[0;32m/usr/local/lib/python3.7/dist-packages/pandas/io/excel/_base.py\u001b[0m in \u001b[0;36mread_excel\u001b[0;34m(io, sheet_name, header, names, index_col, usecols, squeeze, dtype, engine, converters, true_values, false_values, skiprows, nrows, na_values, keep_default_na, na_filter, verbose, parse_dates, date_parser, thousands, comment, skipfooter, convert_float, mangle_dupe_cols, storage_options)\u001b[0m\n\u001b[1;32m    362\u001b[0m     \u001b[0;32mif\u001b[0m \u001b[0;32mnot\u001b[0m \u001b[0misinstance\u001b[0m\u001b[0;34m(\u001b[0m\u001b[0mio\u001b[0m\u001b[0;34m,\u001b[0m \u001b[0mExcelFile\u001b[0m\u001b[0;34m)\u001b[0m\u001b[0;34m:\u001b[0m\u001b[0;34m\u001b[0m\u001b[0;34m\u001b[0m\u001b[0m\n\u001b[1;32m    363\u001b[0m         \u001b[0mshould_close\u001b[0m \u001b[0;34m=\u001b[0m \u001b[0;32mTrue\u001b[0m\u001b[0;34m\u001b[0m\u001b[0;34m\u001b[0m\u001b[0m\n\u001b[0;32m--> 364\u001b[0;31m         \u001b[0mio\u001b[0m \u001b[0;34m=\u001b[0m \u001b[0mExcelFile\u001b[0m\u001b[0;34m(\u001b[0m\u001b[0mio\u001b[0m\u001b[0;34m,\u001b[0m \u001b[0mstorage_options\u001b[0m\u001b[0;34m=\u001b[0m\u001b[0mstorage_options\u001b[0m\u001b[0;34m,\u001b[0m \u001b[0mengine\u001b[0m\u001b[0;34m=\u001b[0m\u001b[0mengine\u001b[0m\u001b[0;34m)\u001b[0m\u001b[0;34m\u001b[0m\u001b[0;34m\u001b[0m\u001b[0m\n\u001b[0m\u001b[1;32m    365\u001b[0m     \u001b[0;32melif\u001b[0m \u001b[0mengine\u001b[0m \u001b[0;32mand\u001b[0m \u001b[0mengine\u001b[0m \u001b[0;34m!=\u001b[0m \u001b[0mio\u001b[0m\u001b[0;34m.\u001b[0m\u001b[0mengine\u001b[0m\u001b[0;34m:\u001b[0m\u001b[0;34m\u001b[0m\u001b[0;34m\u001b[0m\u001b[0m\n\u001b[1;32m    366\u001b[0m         raise ValueError(\n",
            "\u001b[0;32m/usr/local/lib/python3.7/dist-packages/pandas/io/excel/_base.py\u001b[0m in \u001b[0;36m__init__\u001b[0;34m(self, path_or_buffer, engine, storage_options)\u001b[0m\n\u001b[1;32m   1231\u001b[0m         \u001b[0mself\u001b[0m\u001b[0;34m.\u001b[0m\u001b[0mstorage_options\u001b[0m \u001b[0;34m=\u001b[0m \u001b[0mstorage_options\u001b[0m\u001b[0;34m\u001b[0m\u001b[0;34m\u001b[0m\u001b[0m\n\u001b[1;32m   1232\u001b[0m \u001b[0;34m\u001b[0m\u001b[0m\n\u001b[0;32m-> 1233\u001b[0;31m         \u001b[0mself\u001b[0m\u001b[0;34m.\u001b[0m\u001b[0m_reader\u001b[0m \u001b[0;34m=\u001b[0m \u001b[0mself\u001b[0m\u001b[0;34m.\u001b[0m\u001b[0m_engines\u001b[0m\u001b[0;34m[\u001b[0m\u001b[0mengine\u001b[0m\u001b[0;34m]\u001b[0m\u001b[0;34m(\u001b[0m\u001b[0mself\u001b[0m\u001b[0;34m.\u001b[0m\u001b[0m_io\u001b[0m\u001b[0;34m,\u001b[0m \u001b[0mstorage_options\u001b[0m\u001b[0;34m=\u001b[0m\u001b[0mstorage_options\u001b[0m\u001b[0;34m)\u001b[0m\u001b[0;34m\u001b[0m\u001b[0;34m\u001b[0m\u001b[0m\n\u001b[0m\u001b[1;32m   1234\u001b[0m \u001b[0;34m\u001b[0m\u001b[0m\n\u001b[1;32m   1235\u001b[0m     \u001b[0;32mdef\u001b[0m \u001b[0m__fspath__\u001b[0m\u001b[0;34m(\u001b[0m\u001b[0mself\u001b[0m\u001b[0;34m)\u001b[0m\u001b[0;34m:\u001b[0m\u001b[0;34m\u001b[0m\u001b[0;34m\u001b[0m\u001b[0m\n",
            "\u001b[0;32m/usr/local/lib/python3.7/dist-packages/pandas/io/excel/_xlrd.py\u001b[0m in \u001b[0;36m__init__\u001b[0;34m(self, filepath_or_buffer, storage_options)\u001b[0m\n\u001b[1;32m     22\u001b[0m         \"\"\"\n\u001b[1;32m     23\u001b[0m         \u001b[0merr_msg\u001b[0m \u001b[0;34m=\u001b[0m \u001b[0;34m\"Install xlrd >= 1.0.0 for Excel support\"\u001b[0m\u001b[0;34m\u001b[0m\u001b[0;34m\u001b[0m\u001b[0m\n\u001b[0;32m---> 24\u001b[0;31m         \u001b[0mimport_optional_dependency\u001b[0m\u001b[0;34m(\u001b[0m\u001b[0;34m\"xlrd\"\u001b[0m\u001b[0;34m,\u001b[0m \u001b[0mextra\u001b[0m\u001b[0;34m=\u001b[0m\u001b[0merr_msg\u001b[0m\u001b[0;34m)\u001b[0m\u001b[0;34m\u001b[0m\u001b[0;34m\u001b[0m\u001b[0m\n\u001b[0m\u001b[1;32m     25\u001b[0m         \u001b[0msuper\u001b[0m\u001b[0;34m(\u001b[0m\u001b[0;34m)\u001b[0m\u001b[0;34m.\u001b[0m\u001b[0m__init__\u001b[0m\u001b[0;34m(\u001b[0m\u001b[0mfilepath_or_buffer\u001b[0m\u001b[0;34m,\u001b[0m \u001b[0mstorage_options\u001b[0m\u001b[0;34m=\u001b[0m\u001b[0mstorage_options\u001b[0m\u001b[0;34m)\u001b[0m\u001b[0;34m\u001b[0m\u001b[0;34m\u001b[0m\u001b[0m\n\u001b[1;32m     26\u001b[0m \u001b[0;34m\u001b[0m\u001b[0m\n",
            "\u001b[0;32m/usr/local/lib/python3.7/dist-packages/pandas/compat/_optional.py\u001b[0m in \u001b[0;36mimport_optional_dependency\u001b[0;34m(name, extra, errors, min_version)\u001b[0m\n\u001b[1;32m    139\u001b[0m                 \u001b[0;32mreturn\u001b[0m \u001b[0;32mNone\u001b[0m\u001b[0;34m\u001b[0m\u001b[0;34m\u001b[0m\u001b[0m\n\u001b[1;32m    140\u001b[0m             \u001b[0;32melif\u001b[0m \u001b[0merrors\u001b[0m \u001b[0;34m==\u001b[0m \u001b[0;34m\"raise\"\u001b[0m\u001b[0;34m:\u001b[0m\u001b[0;34m\u001b[0m\u001b[0;34m\u001b[0m\u001b[0m\n\u001b[0;32m--> 141\u001b[0;31m                 \u001b[0;32mraise\u001b[0m \u001b[0mImportError\u001b[0m\u001b[0;34m(\u001b[0m\u001b[0mmsg\u001b[0m\u001b[0;34m)\u001b[0m\u001b[0;34m\u001b[0m\u001b[0;34m\u001b[0m\u001b[0m\n\u001b[0m\u001b[1;32m    142\u001b[0m \u001b[0;34m\u001b[0m\u001b[0m\n\u001b[1;32m    143\u001b[0m     \u001b[0;32mreturn\u001b[0m \u001b[0mmodule\u001b[0m\u001b[0;34m\u001b[0m\u001b[0;34m\u001b[0m\u001b[0m\n",
            "\u001b[0;31mImportError\u001b[0m: Pandas requires version '1.2.0' or newer of 'xlrd' (version '1.1.0' currently installed).",
            "",
            "\u001b[0;31m---------------------------------------------------------------------------\u001b[0;32m\nNOTE: If your import is failing due to a missing package, you can\nmanually install dependencies using either !pip or !apt.\n\nTo view examples of installing some common dependencies, click the\n\"Open Examples\" button below.\n\u001b[0;31m---------------------------------------------------------------------------\u001b[0m\n"
          ],
          "errorDetails": {
            "actions": [
              {
                "action": "open_url",
                "actionText": "Open Examples",
                "url": "/notebooks/snippets/importing_libraries.ipynb"
              }
            ]
          }
        }
      ]
    },
    {
      "cell_type": "markdown",
      "source": [
        "# *M*"
      ],
      "metadata": {
        "id": "tf0p0n0QDeG6"
      }
    },
    {
      "cell_type": "code",
      "source": [
        "result1 = result.copy()"
      ],
      "metadata": {
        "id": "_PfgOwjwNSC7"
      },
      "execution_count": null,
      "outputs": []
    },
    {
      "cell_type": "code",
      "source": [
        "# result = result1.copy()\n",
        "# result"
      ],
      "metadata": {
        "id": "QPa0K_YuNXVi"
      },
      "execution_count": null,
      "outputs": []
    },
    {
      "cell_type": "code",
      "source": [
        "path = \"/content/drive/MyDrive/DataScience_finalproject/PCD Data/Data before 2020-9/0hasPM2.5col/M\""
      ],
      "metadata": {
        "id": "j-RHqIPIDkFy"
      },
      "execution_count": null,
      "outputs": []
    },
    {
      "cell_type": "code",
      "source": [
        "filelist = []\n",
        "for (dirpath, dirnames, filenames) in walk(path):\n",
        "    filelist += filenames\n",
        "filelist"
      ],
      "metadata": {
        "colab": {
          "base_uri": "https://localhost:8080/"
        },
        "outputId": "b9a7fc94-d1f6-46de-f7c3-ad436c7f9750",
        "id": "fenYo-pODkFz"
      },
      "execution_count": null,
      "outputs": [
        {
          "output_type": "execute_result",
          "data": {
            "text/plain": [
              "['(14t)แขวงการทางสมุทรสาคร.xlsx',\n",
              " '(08t)ศูนย์ฟื้นฟูอาชีพคนพิการและทุพพลภาพพระประแดง.xlsx']"
            ]
          },
          "metadata": {},
          "execution_count": 229
        }
      ]
    },
    {
      "cell_type": "code",
      "source": [
        "for f in filelist[1:]:\n",
        "  filepath = path+\"/\"+f\n",
        "  df0 = pd.read_excel(filepath,usecols=\"A:M\",na_values=\"-\",sheet_name=None)\n",
        "  print(f)\n",
        "  for sheet in list(df0.keys()):\n",
        "    df = df0[sheet]\n",
        "    df.drop(index=df.index[0], axis=0, inplace=True)\n",
        "  \n",
        "    colRename(df)\n",
        "\n",
        "    # add station column\n",
        "    df[\"Station\"] = f[1:4]\n",
        "\n",
        "    # join traffic\n",
        "    df = df.join(traffic.set_index(['ปี/เดือน/วัน','ชั่วโมง']), on=['ปี/เดือน/วัน','ชั่วโมง'])\n",
        "\n",
        "    result = result.append(df,ignore_index=True)"
      ],
      "metadata": {
        "colab": {
          "base_uri": "https://localhost:8080/"
        },
        "id": "R-d3orWhDrKg",
        "outputId": "3c72766a-398f-448f-bce4-bd0f0e185b8e"
      },
      "execution_count": null,
      "outputs": [
        {
          "output_type": "stream",
          "name": "stdout",
          "text": [
            "(08t)ศูนย์ฟื้นฟูอาชีพคนพิการและทุพพลภาพพระประแดง.xlsx\n"
          ]
        }
      ]
    },
    {
      "cell_type": "code",
      "source": [
        "result.info()"
      ],
      "metadata": {
        "colab": {
          "base_uri": "https://localhost:8080/"
        },
        "id": "pLnCHurQLlvm",
        "outputId": "8512feea-4a64-433e-aa20-16b01839fb09"
      },
      "execution_count": null,
      "outputs": [
        {
          "output_type": "stream",
          "name": "stdout",
          "text": [
            "<class 'pandas.core.frame.DataFrame'>\n",
            "RangeIndex: 127080 entries, 0 to 127079\n",
            "Data columns (total 16 columns):\n",
            " #   Column        Non-Null Count   Dtype  \n",
            "---  ------        --------------   -----  \n",
            " 0   ปี/เดือน/วัน  127080 non-null  float64\n",
            " 1   ชั่วโมง       127080 non-null  float64\n",
            " 2   CO            99084 non-null   object \n",
            " 3   O3            98549 non-null   object \n",
            " 4    NO2          103074 non-null  object \n",
            " 5    SO2          100736 non-null  object \n",
            " 6   PM10          94142 non-null   object \n",
            " 7   Rel hum       110696 non-null  object \n",
            " 8   Temp          109606 non-null  object \n",
            " 9   Wind dir      107159 non-null  object \n",
            " 10  Wind speed    107904 non-null  object \n",
            " 11  PM2.5         55190 non-null   object \n",
            " 12  Station       127080 non-null  object \n",
            " 13  index         99932 non-null   float64\n",
            " 14  Unnamed: 12   1 non-null       float64\n",
            " 15   Rain         32655 non-null   object \n",
            "dtypes: float64(4), object(12)\n",
            "memory usage: 15.5+ MB\n"
          ]
        }
      ]
    },
    {
      "cell_type": "markdown",
      "source": [
        "# *N*"
      ],
      "metadata": {
        "id": "4cIddbhyQHmX"
      }
    },
    {
      "cell_type": "code",
      "source": [
        "path = \"/content/drive/MyDrive/DataScience_finalproject/PCD Data/Data before 2020-9/0hasPM2.5col/N\""
      ],
      "metadata": {
        "id": "l9TddZM0DoSG"
      },
      "execution_count": null,
      "outputs": []
    },
    {
      "cell_type": "code",
      "source": [
        "filelist = []\n",
        "for (dirpath, dirnames, filenames) in walk(path):\n",
        "    filelist += filenames\n",
        "filelist"
      ],
      "metadata": {
        "colab": {
          "base_uri": "https://localhost:8080/"
        },
        "outputId": "128fef3d-c579-4196-fcc5-8fef6b66c0cb",
        "id": "eFV2DK4_DoSG"
      },
      "execution_count": null,
      "outputs": [
        {
          "output_type": "execute_result",
          "data": {
            "text/plain": [
              "['(84t)สำนักงานสาธารณสุขจังหวัดสมุทรสงคราม.xlsx']"
            ]
          },
          "metadata": {},
          "execution_count": 247
        }
      ]
    },
    {
      "cell_type": "code",
      "source": [
        "p = path+\"/\"+filelist[0]\n",
        "resultdic = pd.read_excel(p,usecols=\"A:N\",na_values=\"-\",sheet_name=None)\n",
        "\n",
        "result = resultdic[list(resultdic.keys())[0]]\n",
        "result.drop(index=result.index[0], axis=0, inplace=True)\n",
        "\n",
        "colRename(result)\n",
        "\n",
        "result[\"Station\"] = filelist[0][1:4]\n",
        "\n",
        "result = result.join(traffic.set_index(['ปี/เดือน/วัน','ชั่วโมง']), on=['ปี/เดือน/วัน','ชั่วโมง'])"
      ],
      "metadata": {
        "id": "NcOTONYOD1M5"
      },
      "execution_count": null,
      "outputs": []
    },
    {
      "cell_type": "code",
      "source": [
        "result.info()"
      ],
      "metadata": {
        "colab": {
          "base_uri": "https://localhost:8080/"
        },
        "id": "vvtNNG-qPcO7",
        "outputId": "4e26698e-e86b-41d4-a4e1-e4332896c98a"
      },
      "execution_count": null,
      "outputs": [
        {
          "output_type": "stream",
          "name": "stdout",
          "text": [
            "<class 'pandas.core.frame.DataFrame'>\n",
            "Int64Index: 5136 entries, 1 to 5136\n",
            "Data columns (total 16 columns):\n",
            " #   Column        Non-Null Count  Dtype  \n",
            "---  ------        --------------  -----  \n",
            " 0   ปี/เดือน/วัน  5136 non-null   float64\n",
            " 1   ชั่วโมง       5136 non-null   float64\n",
            " 2   PM10          5014 non-null   object \n",
            " 3   PM2.5         5014 non-null   object \n",
            " 4    CO           4776 non-null   object \n",
            " 5   NO            4761 non-null   object \n",
            " 6   NO2           4761 non-null   object \n",
            " 7   Nox           4761 non-null   object \n",
            " 8   SO2           4772 non-null   object \n",
            " 9   O3            4770 non-null   object \n",
            " 10  Wind speed    5029 non-null   object \n",
            " 11   WD           5027 non-null   object \n",
            " 12  Temp          4976 non-null   object \n",
            " 13   RH           5037 non-null   object \n",
            " 14  Station       5136 non-null   object \n",
            " 15  index         5136 non-null   float64\n",
            "dtypes: float64(3), object(13)\n",
            "memory usage: 682.1+ KB\n"
          ]
        }
      ]
    },
    {
      "cell_type": "markdown",
      "source": [
        "# Data prep1 + Save excel"
      ],
      "metadata": {
        "id": "-P7UvzXNsR21"
      }
    },
    {
      "cell_type": "code",
      "source": [
        "result_nn = result[result[\"PM2.5\"].isnull() == False]\n",
        "result_nn"
      ],
      "metadata": {
        "colab": {
          "base_uri": "https://localhost:8080/",
          "height": 468
        },
        "id": "rpW7aUaoo7l9",
        "outputId": "73e5f280-22a4-4fb4-fcbe-f59025f4f31f"
      },
      "execution_count": null,
      "outputs": [
        {
          "output_type": "execute_result",
          "data": {
            "text/plain": [
              "        ปี/เดือน/วัน  ชั่วโมง    CO   O3  NO2  SO2  PM10 Rel hum  Temp  \\\n",
              "13560       180720.0    100.0  0.08   15    4     2   20      80  28.7   \n",
              "13561       180720.0    200.0  0.08   16    3     1   32      80  28.6   \n",
              "13562       180720.0    300.0  0.08   16    3     1   30      81  28.5   \n",
              "13563       180720.0    400.0  0.08   16    2     0   33      82  28.4   \n",
              "13564       180720.0    500.0   0.1   15    3     0   29      83  28.3   \n",
              "...              ...      ...   ...  ...  ...   ...  ...     ...   ...   \n",
              "127075      200930.0   2000.0   NaN  NaN   19     3   23      66  29.3   \n",
              "127076      200930.0   2100.0   NaN  NaN   18     3   31      70  28.7   \n",
              "127077      200930.0   2200.0   NaN  NaN   17     3   35      74  28.3   \n",
              "127078      200930.0   2300.0   NaN  NaN   16     2   36      76  27.9   \n",
              "127079      200930.0   2400.0   NaN  NaN   15     2   23      76  27.6   \n",
              "\n",
              "       Wind dir Wind speed PM2.5 Station     index  Unnamed: 12  Rain  \n",
              "13560       205        3.7     7     42t  1.458333          NaN   NaN  \n",
              "13561       206        3.7    10     42t  1.554545          NaN   NaN  \n",
              "13562       205        3.8    12     42t  1.275000          NaN   NaN  \n",
              "13563       206        3.9    11     42t  1.091667          NaN   NaN  \n",
              "13564       204        3.1    14     42t  1.883333          NaN   NaN  \n",
              "...         ...        ...   ...     ...       ...          ...   ...  \n",
              "127075      332        1.1    14     08t  5.466667          NaN     0  \n",
              "127076      337        0.7    12     08t  4.166667          NaN     0  \n",
              "127077      340        0.6    16     08t  2.091667          NaN     0  \n",
              "127078      330        0.8    22     08t  1.725000          NaN     0  \n",
              "127079      335        0.7    14     08t  2.158333          NaN     0  \n",
              "\n",
              "[55190 rows x 16 columns]"
            ],
            "text/html": [
              "\n",
              "  <div id=\"df-85c2857a-a4fb-483a-8b65-275ac9011ed9\">\n",
              "    <div class=\"colab-df-container\">\n",
              "      <div>\n",
              "<style scoped>\n",
              "    .dataframe tbody tr th:only-of-type {\n",
              "        vertical-align: middle;\n",
              "    }\n",
              "\n",
              "    .dataframe tbody tr th {\n",
              "        vertical-align: top;\n",
              "    }\n",
              "\n",
              "    .dataframe thead th {\n",
              "        text-align: right;\n",
              "    }\n",
              "</style>\n",
              "<table border=\"1\" class=\"dataframe\">\n",
              "  <thead>\n",
              "    <tr style=\"text-align: right;\">\n",
              "      <th></th>\n",
              "      <th>ปี/เดือน/วัน</th>\n",
              "      <th>ชั่วโมง</th>\n",
              "      <th>CO</th>\n",
              "      <th>O3</th>\n",
              "      <th>NO2</th>\n",
              "      <th>SO2</th>\n",
              "      <th>PM10</th>\n",
              "      <th>Rel hum</th>\n",
              "      <th>Temp</th>\n",
              "      <th>Wind dir</th>\n",
              "      <th>Wind speed</th>\n",
              "      <th>PM2.5</th>\n",
              "      <th>Station</th>\n",
              "      <th>index</th>\n",
              "      <th>Unnamed: 12</th>\n",
              "      <th>Rain</th>\n",
              "    </tr>\n",
              "  </thead>\n",
              "  <tbody>\n",
              "    <tr>\n",
              "      <th>13560</th>\n",
              "      <td>180720.0</td>\n",
              "      <td>100.0</td>\n",
              "      <td>0.08</td>\n",
              "      <td>15</td>\n",
              "      <td>4</td>\n",
              "      <td>2</td>\n",
              "      <td>20</td>\n",
              "      <td>80</td>\n",
              "      <td>28.7</td>\n",
              "      <td>205</td>\n",
              "      <td>3.7</td>\n",
              "      <td>7</td>\n",
              "      <td>42t</td>\n",
              "      <td>1.458333</td>\n",
              "      <td>NaN</td>\n",
              "      <td>NaN</td>\n",
              "    </tr>\n",
              "    <tr>\n",
              "      <th>13561</th>\n",
              "      <td>180720.0</td>\n",
              "      <td>200.0</td>\n",
              "      <td>0.08</td>\n",
              "      <td>16</td>\n",
              "      <td>3</td>\n",
              "      <td>1</td>\n",
              "      <td>32</td>\n",
              "      <td>80</td>\n",
              "      <td>28.6</td>\n",
              "      <td>206</td>\n",
              "      <td>3.7</td>\n",
              "      <td>10</td>\n",
              "      <td>42t</td>\n",
              "      <td>1.554545</td>\n",
              "      <td>NaN</td>\n",
              "      <td>NaN</td>\n",
              "    </tr>\n",
              "    <tr>\n",
              "      <th>13562</th>\n",
              "      <td>180720.0</td>\n",
              "      <td>300.0</td>\n",
              "      <td>0.08</td>\n",
              "      <td>16</td>\n",
              "      <td>3</td>\n",
              "      <td>1</td>\n",
              "      <td>30</td>\n",
              "      <td>81</td>\n",
              "      <td>28.5</td>\n",
              "      <td>205</td>\n",
              "      <td>3.8</td>\n",
              "      <td>12</td>\n",
              "      <td>42t</td>\n",
              "      <td>1.275000</td>\n",
              "      <td>NaN</td>\n",
              "      <td>NaN</td>\n",
              "    </tr>\n",
              "    <tr>\n",
              "      <th>13563</th>\n",
              "      <td>180720.0</td>\n",
              "      <td>400.0</td>\n",
              "      <td>0.08</td>\n",
              "      <td>16</td>\n",
              "      <td>2</td>\n",
              "      <td>0</td>\n",
              "      <td>33</td>\n",
              "      <td>82</td>\n",
              "      <td>28.4</td>\n",
              "      <td>206</td>\n",
              "      <td>3.9</td>\n",
              "      <td>11</td>\n",
              "      <td>42t</td>\n",
              "      <td>1.091667</td>\n",
              "      <td>NaN</td>\n",
              "      <td>NaN</td>\n",
              "    </tr>\n",
              "    <tr>\n",
              "      <th>13564</th>\n",
              "      <td>180720.0</td>\n",
              "      <td>500.0</td>\n",
              "      <td>0.1</td>\n",
              "      <td>15</td>\n",
              "      <td>3</td>\n",
              "      <td>0</td>\n",
              "      <td>29</td>\n",
              "      <td>83</td>\n",
              "      <td>28.3</td>\n",
              "      <td>204</td>\n",
              "      <td>3.1</td>\n",
              "      <td>14</td>\n",
              "      <td>42t</td>\n",
              "      <td>1.883333</td>\n",
              "      <td>NaN</td>\n",
              "      <td>NaN</td>\n",
              "    </tr>\n",
              "    <tr>\n",
              "      <th>...</th>\n",
              "      <td>...</td>\n",
              "      <td>...</td>\n",
              "      <td>...</td>\n",
              "      <td>...</td>\n",
              "      <td>...</td>\n",
              "      <td>...</td>\n",
              "      <td>...</td>\n",
              "      <td>...</td>\n",
              "      <td>...</td>\n",
              "      <td>...</td>\n",
              "      <td>...</td>\n",
              "      <td>...</td>\n",
              "      <td>...</td>\n",
              "      <td>...</td>\n",
              "      <td>...</td>\n",
              "      <td>...</td>\n",
              "    </tr>\n",
              "    <tr>\n",
              "      <th>127075</th>\n",
              "      <td>200930.0</td>\n",
              "      <td>2000.0</td>\n",
              "      <td>NaN</td>\n",
              "      <td>NaN</td>\n",
              "      <td>19</td>\n",
              "      <td>3</td>\n",
              "      <td>23</td>\n",
              "      <td>66</td>\n",
              "      <td>29.3</td>\n",
              "      <td>332</td>\n",
              "      <td>1.1</td>\n",
              "      <td>14</td>\n",
              "      <td>08t</td>\n",
              "      <td>5.466667</td>\n",
              "      <td>NaN</td>\n",
              "      <td>0</td>\n",
              "    </tr>\n",
              "    <tr>\n",
              "      <th>127076</th>\n",
              "      <td>200930.0</td>\n",
              "      <td>2100.0</td>\n",
              "      <td>NaN</td>\n",
              "      <td>NaN</td>\n",
              "      <td>18</td>\n",
              "      <td>3</td>\n",
              "      <td>31</td>\n",
              "      <td>70</td>\n",
              "      <td>28.7</td>\n",
              "      <td>337</td>\n",
              "      <td>0.7</td>\n",
              "      <td>12</td>\n",
              "      <td>08t</td>\n",
              "      <td>4.166667</td>\n",
              "      <td>NaN</td>\n",
              "      <td>0</td>\n",
              "    </tr>\n",
              "    <tr>\n",
              "      <th>127077</th>\n",
              "      <td>200930.0</td>\n",
              "      <td>2200.0</td>\n",
              "      <td>NaN</td>\n",
              "      <td>NaN</td>\n",
              "      <td>17</td>\n",
              "      <td>3</td>\n",
              "      <td>35</td>\n",
              "      <td>74</td>\n",
              "      <td>28.3</td>\n",
              "      <td>340</td>\n",
              "      <td>0.6</td>\n",
              "      <td>16</td>\n",
              "      <td>08t</td>\n",
              "      <td>2.091667</td>\n",
              "      <td>NaN</td>\n",
              "      <td>0</td>\n",
              "    </tr>\n",
              "    <tr>\n",
              "      <th>127078</th>\n",
              "      <td>200930.0</td>\n",
              "      <td>2300.0</td>\n",
              "      <td>NaN</td>\n",
              "      <td>NaN</td>\n",
              "      <td>16</td>\n",
              "      <td>2</td>\n",
              "      <td>36</td>\n",
              "      <td>76</td>\n",
              "      <td>27.9</td>\n",
              "      <td>330</td>\n",
              "      <td>0.8</td>\n",
              "      <td>22</td>\n",
              "      <td>08t</td>\n",
              "      <td>1.725000</td>\n",
              "      <td>NaN</td>\n",
              "      <td>0</td>\n",
              "    </tr>\n",
              "    <tr>\n",
              "      <th>127079</th>\n",
              "      <td>200930.0</td>\n",
              "      <td>2400.0</td>\n",
              "      <td>NaN</td>\n",
              "      <td>NaN</td>\n",
              "      <td>15</td>\n",
              "      <td>2</td>\n",
              "      <td>23</td>\n",
              "      <td>76</td>\n",
              "      <td>27.6</td>\n",
              "      <td>335</td>\n",
              "      <td>0.7</td>\n",
              "      <td>14</td>\n",
              "      <td>08t</td>\n",
              "      <td>2.158333</td>\n",
              "      <td>NaN</td>\n",
              "      <td>0</td>\n",
              "    </tr>\n",
              "  </tbody>\n",
              "</table>\n",
              "<p>55190 rows × 16 columns</p>\n",
              "</div>\n",
              "      <button class=\"colab-df-convert\" onclick=\"convertToInteractive('df-85c2857a-a4fb-483a-8b65-275ac9011ed9')\"\n",
              "              title=\"Convert this dataframe to an interactive table.\"\n",
              "              style=\"display:none;\">\n",
              "        \n",
              "  <svg xmlns=\"http://www.w3.org/2000/svg\" height=\"24px\"viewBox=\"0 0 24 24\"\n",
              "       width=\"24px\">\n",
              "    <path d=\"M0 0h24v24H0V0z\" fill=\"none\"/>\n",
              "    <path d=\"M18.56 5.44l.94 2.06.94-2.06 2.06-.94-2.06-.94-.94-2.06-.94 2.06-2.06.94zm-11 1L8.5 8.5l.94-2.06 2.06-.94-2.06-.94L8.5 2.5l-.94 2.06-2.06.94zm10 10l.94 2.06.94-2.06 2.06-.94-2.06-.94-.94-2.06-.94 2.06-2.06.94z\"/><path d=\"M17.41 7.96l-1.37-1.37c-.4-.4-.92-.59-1.43-.59-.52 0-1.04.2-1.43.59L10.3 9.45l-7.72 7.72c-.78.78-.78 2.05 0 2.83L4 21.41c.39.39.9.59 1.41.59.51 0 1.02-.2 1.41-.59l7.78-7.78 2.81-2.81c.8-.78.8-2.07 0-2.86zM5.41 20L4 18.59l7.72-7.72 1.47 1.35L5.41 20z\"/>\n",
              "  </svg>\n",
              "      </button>\n",
              "      \n",
              "  <style>\n",
              "    .colab-df-container {\n",
              "      display:flex;\n",
              "      flex-wrap:wrap;\n",
              "      gap: 12px;\n",
              "    }\n",
              "\n",
              "    .colab-df-convert {\n",
              "      background-color: #E8F0FE;\n",
              "      border: none;\n",
              "      border-radius: 50%;\n",
              "      cursor: pointer;\n",
              "      display: none;\n",
              "      fill: #1967D2;\n",
              "      height: 32px;\n",
              "      padding: 0 0 0 0;\n",
              "      width: 32px;\n",
              "    }\n",
              "\n",
              "    .colab-df-convert:hover {\n",
              "      background-color: #E2EBFA;\n",
              "      box-shadow: 0px 1px 2px rgba(60, 64, 67, 0.3), 0px 1px 3px 1px rgba(60, 64, 67, 0.15);\n",
              "      fill: #174EA6;\n",
              "    }\n",
              "\n",
              "    [theme=dark] .colab-df-convert {\n",
              "      background-color: #3B4455;\n",
              "      fill: #D2E3FC;\n",
              "    }\n",
              "\n",
              "    [theme=dark] .colab-df-convert:hover {\n",
              "      background-color: #434B5C;\n",
              "      box-shadow: 0px 1px 3px 1px rgba(0, 0, 0, 0.15);\n",
              "      filter: drop-shadow(0px 1px 2px rgba(0, 0, 0, 0.3));\n",
              "      fill: #FFFFFF;\n",
              "    }\n",
              "  </style>\n",
              "\n",
              "      <script>\n",
              "        const buttonEl =\n",
              "          document.querySelector('#df-85c2857a-a4fb-483a-8b65-275ac9011ed9 button.colab-df-convert');\n",
              "        buttonEl.style.display =\n",
              "          google.colab.kernel.accessAllowed ? 'block' : 'none';\n",
              "\n",
              "        async function convertToInteractive(key) {\n",
              "          const element = document.querySelector('#df-85c2857a-a4fb-483a-8b65-275ac9011ed9');\n",
              "          const dataTable =\n",
              "            await google.colab.kernel.invokeFunction('convertToInteractive',\n",
              "                                                     [key], {});\n",
              "          if (!dataTable) return;\n",
              "\n",
              "          const docLinkHtml = 'Like what you see? Visit the ' +\n",
              "            '<a target=\"_blank\" href=https://colab.research.google.com/notebooks/data_table.ipynb>data table notebook</a>'\n",
              "            + ' to learn more about interactive tables.';\n",
              "          element.innerHTML = '';\n",
              "          dataTable['output_type'] = 'display_data';\n",
              "          await google.colab.output.renderOutput(dataTable, element);\n",
              "          const docLink = document.createElement('div');\n",
              "          docLink.innerHTML = docLinkHtml;\n",
              "          element.appendChild(docLink);\n",
              "        }\n",
              "      </script>\n",
              "    </div>\n",
              "  </div>\n",
              "  "
            ]
          },
          "metadata": {},
          "execution_count": 241
        }
      ]
    },
    {
      "cell_type": "code",
      "source": [
        "result_nn.info()"
      ],
      "metadata": {
        "colab": {
          "base_uri": "https://localhost:8080/"
        },
        "id": "ng0mQx7Mpcl8",
        "outputId": "20c0057a-7b91-444b-84c3-2ec175cdad6c"
      },
      "execution_count": null,
      "outputs": [
        {
          "output_type": "stream",
          "name": "stdout",
          "text": [
            "<class 'pandas.core.frame.DataFrame'>\n",
            "Int64Index: 55190 entries, 13560 to 127079\n",
            "Data columns (total 16 columns):\n",
            " #   Column        Non-Null Count  Dtype  \n",
            "---  ------        --------------  -----  \n",
            " 0   ปี/เดือน/วัน  55190 non-null  float64\n",
            " 1   ชั่วโมง       55190 non-null  float64\n",
            " 2   CO            47207 non-null  object \n",
            " 3   O3            47877 non-null  object \n",
            " 4    NO2          52032 non-null  object \n",
            " 5    SO2          52178 non-null  object \n",
            " 6   PM10          54409 non-null  object \n",
            " 7   Rel hum       54273 non-null  object \n",
            " 8   Temp          54651 non-null  object \n",
            " 9   Wind dir      54650 non-null  object \n",
            " 10  Wind speed    54635 non-null  object \n",
            " 11  PM2.5         55190 non-null  object \n",
            " 12  Station       55190 non-null  object \n",
            " 13  index         51873 non-null  float64\n",
            " 14  Unnamed: 12   0 non-null      float64\n",
            " 15   Rain         32131 non-null  object \n",
            "dtypes: float64(4), object(12)\n",
            "memory usage: 7.2+ MB\n"
          ]
        }
      ]
    },
    {
      "cell_type": "code",
      "source": [
        "wanted = [\"ปี/เดือน/วัน\",\"ชั่วโมง\",\"PM10\",\"PM2.5\",\"Wind speed\",\"Wind dir\",\"Temp\",\"Rel hum\",\"Station\",\"index\"]\n",
        "result_nn[wanted]"
      ],
      "metadata": {
        "colab": {
          "base_uri": "https://localhost:8080/",
          "height": 424
        },
        "id": "El8JGKFop_D-",
        "outputId": "a526c29c-39a4-46db-c27e-3e3cfb6d9d5e"
      },
      "execution_count": null,
      "outputs": [
        {
          "output_type": "execute_result",
          "data": {
            "text/plain": [
              "        ปี/เดือน/วัน  ชั่วโมง PM10 PM2.5 Wind speed Wind dir  Temp Rel hum  \\\n",
              "13560       180720.0    100.0   20     7        3.7      205  28.7      80   \n",
              "13561       180720.0    200.0   32    10        3.7      206  28.6      80   \n",
              "13562       180720.0    300.0   30    12        3.8      205  28.5      81   \n",
              "13563       180720.0    400.0   33    11        3.9      206  28.4      82   \n",
              "13564       180720.0    500.0   29    14        3.1      204  28.3      83   \n",
              "...              ...      ...  ...   ...        ...      ...   ...     ...   \n",
              "127075      200930.0   2000.0   23    14        1.1      332  29.3      66   \n",
              "127076      200930.0   2100.0   31    12        0.7      337  28.7      70   \n",
              "127077      200930.0   2200.0   35    16        0.6      340  28.3      74   \n",
              "127078      200930.0   2300.0   36    22        0.8      330  27.9      76   \n",
              "127079      200930.0   2400.0   23    14        0.7      335  27.6      76   \n",
              "\n",
              "       Station     index  \n",
              "13560      42t  1.458333  \n",
              "13561      42t  1.554545  \n",
              "13562      42t  1.275000  \n",
              "13563      42t  1.091667  \n",
              "13564      42t  1.883333  \n",
              "...        ...       ...  \n",
              "127075     08t  5.466667  \n",
              "127076     08t  4.166667  \n",
              "127077     08t  2.091667  \n",
              "127078     08t  1.725000  \n",
              "127079     08t  2.158333  \n",
              "\n",
              "[55190 rows x 10 columns]"
            ],
            "text/html": [
              "\n",
              "  <div id=\"df-4239b6b1-c38c-4560-96b8-03c8677ea5e6\">\n",
              "    <div class=\"colab-df-container\">\n",
              "      <div>\n",
              "<style scoped>\n",
              "    .dataframe tbody tr th:only-of-type {\n",
              "        vertical-align: middle;\n",
              "    }\n",
              "\n",
              "    .dataframe tbody tr th {\n",
              "        vertical-align: top;\n",
              "    }\n",
              "\n",
              "    .dataframe thead th {\n",
              "        text-align: right;\n",
              "    }\n",
              "</style>\n",
              "<table border=\"1\" class=\"dataframe\">\n",
              "  <thead>\n",
              "    <tr style=\"text-align: right;\">\n",
              "      <th></th>\n",
              "      <th>ปี/เดือน/วัน</th>\n",
              "      <th>ชั่วโมง</th>\n",
              "      <th>PM10</th>\n",
              "      <th>PM2.5</th>\n",
              "      <th>Wind speed</th>\n",
              "      <th>Wind dir</th>\n",
              "      <th>Temp</th>\n",
              "      <th>Rel hum</th>\n",
              "      <th>Station</th>\n",
              "      <th>index</th>\n",
              "    </tr>\n",
              "  </thead>\n",
              "  <tbody>\n",
              "    <tr>\n",
              "      <th>13560</th>\n",
              "      <td>180720.0</td>\n",
              "      <td>100.0</td>\n",
              "      <td>20</td>\n",
              "      <td>7</td>\n",
              "      <td>3.7</td>\n",
              "      <td>205</td>\n",
              "      <td>28.7</td>\n",
              "      <td>80</td>\n",
              "      <td>42t</td>\n",
              "      <td>1.458333</td>\n",
              "    </tr>\n",
              "    <tr>\n",
              "      <th>13561</th>\n",
              "      <td>180720.0</td>\n",
              "      <td>200.0</td>\n",
              "      <td>32</td>\n",
              "      <td>10</td>\n",
              "      <td>3.7</td>\n",
              "      <td>206</td>\n",
              "      <td>28.6</td>\n",
              "      <td>80</td>\n",
              "      <td>42t</td>\n",
              "      <td>1.554545</td>\n",
              "    </tr>\n",
              "    <tr>\n",
              "      <th>13562</th>\n",
              "      <td>180720.0</td>\n",
              "      <td>300.0</td>\n",
              "      <td>30</td>\n",
              "      <td>12</td>\n",
              "      <td>3.8</td>\n",
              "      <td>205</td>\n",
              "      <td>28.5</td>\n",
              "      <td>81</td>\n",
              "      <td>42t</td>\n",
              "      <td>1.275000</td>\n",
              "    </tr>\n",
              "    <tr>\n",
              "      <th>13563</th>\n",
              "      <td>180720.0</td>\n",
              "      <td>400.0</td>\n",
              "      <td>33</td>\n",
              "      <td>11</td>\n",
              "      <td>3.9</td>\n",
              "      <td>206</td>\n",
              "      <td>28.4</td>\n",
              "      <td>82</td>\n",
              "      <td>42t</td>\n",
              "      <td>1.091667</td>\n",
              "    </tr>\n",
              "    <tr>\n",
              "      <th>13564</th>\n",
              "      <td>180720.0</td>\n",
              "      <td>500.0</td>\n",
              "      <td>29</td>\n",
              "      <td>14</td>\n",
              "      <td>3.1</td>\n",
              "      <td>204</td>\n",
              "      <td>28.3</td>\n",
              "      <td>83</td>\n",
              "      <td>42t</td>\n",
              "      <td>1.883333</td>\n",
              "    </tr>\n",
              "    <tr>\n",
              "      <th>...</th>\n",
              "      <td>...</td>\n",
              "      <td>...</td>\n",
              "      <td>...</td>\n",
              "      <td>...</td>\n",
              "      <td>...</td>\n",
              "      <td>...</td>\n",
              "      <td>...</td>\n",
              "      <td>...</td>\n",
              "      <td>...</td>\n",
              "      <td>...</td>\n",
              "    </tr>\n",
              "    <tr>\n",
              "      <th>127075</th>\n",
              "      <td>200930.0</td>\n",
              "      <td>2000.0</td>\n",
              "      <td>23</td>\n",
              "      <td>14</td>\n",
              "      <td>1.1</td>\n",
              "      <td>332</td>\n",
              "      <td>29.3</td>\n",
              "      <td>66</td>\n",
              "      <td>08t</td>\n",
              "      <td>5.466667</td>\n",
              "    </tr>\n",
              "    <tr>\n",
              "      <th>127076</th>\n",
              "      <td>200930.0</td>\n",
              "      <td>2100.0</td>\n",
              "      <td>31</td>\n",
              "      <td>12</td>\n",
              "      <td>0.7</td>\n",
              "      <td>337</td>\n",
              "      <td>28.7</td>\n",
              "      <td>70</td>\n",
              "      <td>08t</td>\n",
              "      <td>4.166667</td>\n",
              "    </tr>\n",
              "    <tr>\n",
              "      <th>127077</th>\n",
              "      <td>200930.0</td>\n",
              "      <td>2200.0</td>\n",
              "      <td>35</td>\n",
              "      <td>16</td>\n",
              "      <td>0.6</td>\n",
              "      <td>340</td>\n",
              "      <td>28.3</td>\n",
              "      <td>74</td>\n",
              "      <td>08t</td>\n",
              "      <td>2.091667</td>\n",
              "    </tr>\n",
              "    <tr>\n",
              "      <th>127078</th>\n",
              "      <td>200930.0</td>\n",
              "      <td>2300.0</td>\n",
              "      <td>36</td>\n",
              "      <td>22</td>\n",
              "      <td>0.8</td>\n",
              "      <td>330</td>\n",
              "      <td>27.9</td>\n",
              "      <td>76</td>\n",
              "      <td>08t</td>\n",
              "      <td>1.725000</td>\n",
              "    </tr>\n",
              "    <tr>\n",
              "      <th>127079</th>\n",
              "      <td>200930.0</td>\n",
              "      <td>2400.0</td>\n",
              "      <td>23</td>\n",
              "      <td>14</td>\n",
              "      <td>0.7</td>\n",
              "      <td>335</td>\n",
              "      <td>27.6</td>\n",
              "      <td>76</td>\n",
              "      <td>08t</td>\n",
              "      <td>2.158333</td>\n",
              "    </tr>\n",
              "  </tbody>\n",
              "</table>\n",
              "<p>55190 rows × 10 columns</p>\n",
              "</div>\n",
              "      <button class=\"colab-df-convert\" onclick=\"convertToInteractive('df-4239b6b1-c38c-4560-96b8-03c8677ea5e6')\"\n",
              "              title=\"Convert this dataframe to an interactive table.\"\n",
              "              style=\"display:none;\">\n",
              "        \n",
              "  <svg xmlns=\"http://www.w3.org/2000/svg\" height=\"24px\"viewBox=\"0 0 24 24\"\n",
              "       width=\"24px\">\n",
              "    <path d=\"M0 0h24v24H0V0z\" fill=\"none\"/>\n",
              "    <path d=\"M18.56 5.44l.94 2.06.94-2.06 2.06-.94-2.06-.94-.94-2.06-.94 2.06-2.06.94zm-11 1L8.5 8.5l.94-2.06 2.06-.94-2.06-.94L8.5 2.5l-.94 2.06-2.06.94zm10 10l.94 2.06.94-2.06 2.06-.94-2.06-.94-.94-2.06-.94 2.06-2.06.94z\"/><path d=\"M17.41 7.96l-1.37-1.37c-.4-.4-.92-.59-1.43-.59-.52 0-1.04.2-1.43.59L10.3 9.45l-7.72 7.72c-.78.78-.78 2.05 0 2.83L4 21.41c.39.39.9.59 1.41.59.51 0 1.02-.2 1.41-.59l7.78-7.78 2.81-2.81c.8-.78.8-2.07 0-2.86zM5.41 20L4 18.59l7.72-7.72 1.47 1.35L5.41 20z\"/>\n",
              "  </svg>\n",
              "      </button>\n",
              "      \n",
              "  <style>\n",
              "    .colab-df-container {\n",
              "      display:flex;\n",
              "      flex-wrap:wrap;\n",
              "      gap: 12px;\n",
              "    }\n",
              "\n",
              "    .colab-df-convert {\n",
              "      background-color: #E8F0FE;\n",
              "      border: none;\n",
              "      border-radius: 50%;\n",
              "      cursor: pointer;\n",
              "      display: none;\n",
              "      fill: #1967D2;\n",
              "      height: 32px;\n",
              "      padding: 0 0 0 0;\n",
              "      width: 32px;\n",
              "    }\n",
              "\n",
              "    .colab-df-convert:hover {\n",
              "      background-color: #E2EBFA;\n",
              "      box-shadow: 0px 1px 2px rgba(60, 64, 67, 0.3), 0px 1px 3px 1px rgba(60, 64, 67, 0.15);\n",
              "      fill: #174EA6;\n",
              "    }\n",
              "\n",
              "    [theme=dark] .colab-df-convert {\n",
              "      background-color: #3B4455;\n",
              "      fill: #D2E3FC;\n",
              "    }\n",
              "\n",
              "    [theme=dark] .colab-df-convert:hover {\n",
              "      background-color: #434B5C;\n",
              "      box-shadow: 0px 1px 3px 1px rgba(0, 0, 0, 0.15);\n",
              "      filter: drop-shadow(0px 1px 2px rgba(0, 0, 0, 0.3));\n",
              "      fill: #FFFFFF;\n",
              "    }\n",
              "  </style>\n",
              "\n",
              "      <script>\n",
              "        const buttonEl =\n",
              "          document.querySelector('#df-4239b6b1-c38c-4560-96b8-03c8677ea5e6 button.colab-df-convert');\n",
              "        buttonEl.style.display =\n",
              "          google.colab.kernel.accessAllowed ? 'block' : 'none';\n",
              "\n",
              "        async function convertToInteractive(key) {\n",
              "          const element = document.querySelector('#df-4239b6b1-c38c-4560-96b8-03c8677ea5e6');\n",
              "          const dataTable =\n",
              "            await google.colab.kernel.invokeFunction('convertToInteractive',\n",
              "                                                     [key], {});\n",
              "          if (!dataTable) return;\n",
              "\n",
              "          const docLinkHtml = 'Like what you see? Visit the ' +\n",
              "            '<a target=\"_blank\" href=https://colab.research.google.com/notebooks/data_table.ipynb>data table notebook</a>'\n",
              "            + ' to learn more about interactive tables.';\n",
              "          element.innerHTML = '';\n",
              "          dataTable['output_type'] = 'display_data';\n",
              "          await google.colab.output.renderOutput(dataTable, element);\n",
              "          const docLink = document.createElement('div');\n",
              "          docLink.innerHTML = docLinkHtml;\n",
              "          element.appendChild(docLink);\n",
              "        }\n",
              "      </script>\n",
              "    </div>\n",
              "  </div>\n",
              "  "
            ]
          },
          "metadata": {},
          "execution_count": 243
        }
      ]
    },
    {
      "cell_type": "code",
      "source": [
        "result_nn[wanted].info()"
      ],
      "metadata": {
        "colab": {
          "base_uri": "https://localhost:8080/"
        },
        "id": "KBTn5LQY0C5S",
        "outputId": "1ad59110-57eb-4aa4-f206-b6591f51f1b0"
      },
      "execution_count": null,
      "outputs": [
        {
          "output_type": "stream",
          "name": "stdout",
          "text": [
            "<class 'pandas.core.frame.DataFrame'>\n",
            "Int64Index: 55190 entries, 13560 to 127079\n",
            "Data columns (total 10 columns):\n",
            " #   Column        Non-Null Count  Dtype  \n",
            "---  ------        --------------  -----  \n",
            " 0   ปี/เดือน/วัน  55190 non-null  float64\n",
            " 1   ชั่วโมง       55190 non-null  float64\n",
            " 2   PM10          54409 non-null  object \n",
            " 3   PM2.5         55190 non-null  object \n",
            " 4   Wind speed    54635 non-null  object \n",
            " 5   Wind dir      54650 non-null  object \n",
            " 6   Temp          54651 non-null  object \n",
            " 7   Rel hum       54273 non-null  object \n",
            " 8   Station       55190 non-null  object \n",
            " 9   index         51873 non-null  float64\n",
            "dtypes: float64(3), object(7)\n",
            "memory usage: 4.6+ MB\n"
          ]
        }
      ]
    },
    {
      "cell_type": "code",
      "source": [
        "result_nn[wanted].to_excel(\"train_L2M.xlsx\")"
      ],
      "metadata": {
        "id": "ODle9qnLpvQA"
      },
      "execution_count": null,
      "outputs": []
    }
  ]
}